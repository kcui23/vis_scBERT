{
 "cells": [
  {
   "cell_type": "code",
   "execution_count": 14,
   "metadata": {},
   "outputs": [],
   "source": [
    "import requests\n",
    "from bs4 import BeautifulSoup\n",
    "from tqdm import tqdm\n",
    "import pickle\n",
    "\n",
    "def get_gene_link(url):\n",
    "    response = requests.get(url)\n",
    "    webpage = response.content\n",
    "\n",
    "    soup = BeautifulSoup(webpage, 'html.parser')\n",
    "\n",
    "    for link in soup.find_all('a'):\n",
    "        if 'ath:A' in str(link):\n",
    "            return link\n",
    "\n",
    "def get_NT_seq(url):\n",
    "    '''\n",
    "    return: name, NT seq\n",
    "    '''\n",
    "    response = requests.get(url)\n",
    "    webpage = response.content\n",
    "\n",
    "    soup = BeautifulSoup(webpage, 'html.parser')\n",
    "    a=soup.find_all('tr')\n",
    "    start = str(a[5]).find('cel\">')\n",
    "    end = str(a[5]).find('<br')\n",
    "    name = str(a[5])[start+5:end]\n",
    "    tmp=a[-1]\n",
    "    tmp=str(tmp).split('\\n')\n",
    "    tmp_dna=''\n",
    "    for i in tmp[2:]:\n",
    "        tmp_dna+=i.replace('<br/>','').replace('</td></tr>', '')\n",
    "    return name, tmp_dna.upper()\n",
    "\n",
    "def pathway_to_NT_seq(pathway_gene_name_filename, nt_seq_dic_pkl_filename):\n",
    "    with open(pathway_gene_name_filename, 'r') as f:\n",
    "        gene_ids = []\n",
    "        for i in f.readlines():\n",
    "            gene_ids.append(i[:6])\n",
    "\n",
    "    urls = []\n",
    "    prefix = 'https://www.genome.jp/entry/'\n",
    "    for i in gene_ids:\n",
    "        urls.append(prefix+i)\n",
    "\n",
    "    gene_links = []\n",
    "    for i in tqdm(urls, desc='Getting gene links'):\n",
    "        a = get_gene_link(i)\n",
    "        start = str(a).find('\"')\n",
    "        end = str(a)[start+1:].find('\"')\n",
    "        a_link = 'https://www.genome.jp'+str(a)[start+1:start+end+1]\n",
    "        gene_links.append(a_link)\n",
    "\n",
    "    nt_seq = {}\n",
    "    for i in tqdm(gene_links, desc='Getting NT sequences'):\n",
    "        name, tmp_dna = get_NT_seq(i)\n",
    "        if len(str(name)) < 10 and str(name)!='non':\n",
    "            nt_seq[name] = tmp_dna\n",
    "    \n",
    "    with open(nt_seq_dic_pkl_filename, 'wb') as pickle_file:\n",
    "        pickle.dump(nt_seq, pickle_file)"
   ]
  },
  {
   "cell_type": "code",
   "execution_count": null,
   "metadata": {},
   "outputs": [],
   "source": [
    "pathway_to_NT_seq('pathway_gene_name.txt', 'test_out_ath.pkl')"
   ]
  }
 ],
 "metadata": {
  "kernelspec": {
   "display_name": "Python 3",
   "language": "python",
   "name": "python3"
  },
  "language_info": {
   "codemirror_mode": {
    "name": "ipython",
    "version": 3
   },
   "file_extension": ".py",
   "mimetype": "text/x-python",
   "name": "python",
   "nbconvert_exporter": "python",
   "pygments_lexer": "ipython3",
   "version": "3.9.7"
  }
 },
 "nbformat": 4,
 "nbformat_minor": 2
}
