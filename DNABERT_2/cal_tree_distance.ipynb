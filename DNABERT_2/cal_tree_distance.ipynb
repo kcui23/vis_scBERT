{
 "cells": [
  {
   "cell_type": "code",
   "execution_count": 3,
   "metadata": {},
   "outputs": [],
   "source": [
    "import pickle\n",
    "from mytree import *"
   ]
  },
  {
   "cell_type": "code",
   "execution_count": 49,
   "metadata": {},
   "outputs": [],
   "source": [
    "with open(\"gene_subtree_dic.pkl\", 'rb') as p:\n",
    "    gene_subtree_dic = pickle.load(p)\n",
    "with open(\"total_BR_tree_dic.pkl\", 'rb') as p:\n",
    "    total_BR_tree_dic = pickle.load(p)"
   ]
  },
  {
   "cell_type": "code",
   "execution_count": 27,
   "metadata": {},
   "outputs": [
    {
     "name": "stdout",
     "output_type": "stream",
     "text": [
      "62\n"
     ]
    }
   ],
   "source": [
    "# This chunk is to see which tree every gene is in.\n",
    "\n",
    "k2br_all = dict()\n",
    "for k in gene_subtree_dic.keys():\n",
    "    k2br_all[k] = []\n",
    "    for i in gene_subtree_dic[k].children:\n",
    "        k2br_all[k].append(i.value[-12:-5])\n",
    "\n",
    "count = 0\n",
    "for k,v in k2br_all.items():\n",
    "    if not 'ko03110' in v:\n",
    "        # print(k)\n",
    "        count+=1\n",
    "print(count)\n",
    "\n",
    "# result is: every gene is in 'ko00001' and 'ko00194'"
   ]
  },
  {
   "cell_type": "markdown",
   "metadata": {},
   "source": [
    "## Usage example"
   ]
  },
  {
   "cell_type": "code",
   "execution_count": 115,
   "metadata": {},
   "outputs": [
    {
     "data": {
      "text/plain": [
       "4"
      ]
     },
     "execution_count": 115,
     "metadata": {},
     "output_type": "execute_result"
    }
   ],
   "source": [
    "count=0\n",
    "gene_node_list = []\n",
    "current_name = \"Photosynthesis proteins\"\n",
    "\n",
    "for i in gene_subtree_dic.keys():\n",
    "    count+=1\n",
    "    tmp_node, _ = find_deepest_node(gene_subtree_dic[i], current_name)\n",
    "    gene_node_list.append(tmp_node)\n",
    "    if count > 10:\n",
    "        break\n",
    "\n",
    "root = total_BR_tree_dic['ko00194']\n",
    "cal_tree_distance(root, gene_node_list[-2], gene_node_list[-8])"
   ]
  },
  {
   "cell_type": "code",
   "execution_count": 110,
   "metadata": {},
   "outputs": [
    {
     "name": "stdout",
     "output_type": "stream",
     "text": [
      "K02108  ATPF0A, atpB; F-type H+-transporting ATPase subunit a\n",
      "K02109  ATPF0B, atpF; F-type H+-transporting ATPase subunit b\n",
      "K02110  ATPF0C, atpE; F-type H+-transporting ATPase subunit c\n",
      "K02111  ATPF1A, atpA; F-type H+/Na+-transporting ATPase subunit alpha\n",
      "K02112  ATPF1B, atpD; F-type H+/Na+-transporting ATPase subunit beta\n",
      "K02113  ATPF1D, atpH; F-type H+-transporting ATPase subunit delta\n",
      "K02114  ATPF1E, atpC; F-type H+-transporting ATPase subunit epsilon\n",
      "K02115  ATPF1G, atpG; F-type H+-transporting ATPase subunit gamma\n",
      "K02634  petA; apocytochrome f\n",
      "K02635  petB; cytochrome b6\n",
      "K02636  petC; cytochrome b6-f complex iron-sulfur subunit\n"
     ]
    }
   ],
   "source": [
    "for i in gene_node_list:\n",
    "    print_tree(i)"
   ]
  },
  {
   "cell_type": "code",
   "execution_count": 4,
   "metadata": {},
   "outputs": [],
   "source": [
    "# get all the deepest nodes in human BR tree\n",
    "import pickle\n",
    "with open(\"human_total_BR_tree_dic.pkl\", 'rb') as p:\n",
    "    human_dic = pickle.load(p)\n",
    "\n",
    "root = human_dic['sa00001']\n",
    "deepest_nodes, max_depth = find_deepest_node(root, '', from_root_get_all=True)"
   ]
  },
  {
   "cell_type": "code",
   "execution_count": 8,
   "metadata": {},
   "outputs": [
    {
     "name": "stdout",
     "output_type": "stream",
     "text": [
      "8789 FBP2; fructose-bisphosphatase 2\n"
     ]
    }
   ],
   "source": [
    "from mytree import print_tree\n",
    "print_tree(deepest_nodes[10])"
   ]
  }
 ],
 "metadata": {
  "kernelspec": {
   "display_name": "Python 3",
   "language": "python",
   "name": "python3"
  },
  "language_info": {
   "codemirror_mode": {
    "name": "ipython",
    "version": 3
   },
   "file_extension": ".py",
   "mimetype": "text/x-python",
   "name": "python",
   "nbconvert_exporter": "python",
   "pygments_lexer": "ipython3",
   "version": "3.9.7"
  }
 },
 "nbformat": 4,
 "nbformat_minor": 2
}
