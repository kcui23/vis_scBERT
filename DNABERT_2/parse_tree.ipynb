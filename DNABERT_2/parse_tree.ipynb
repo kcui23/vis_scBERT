{
 "cells": [
  {
   "cell_type": "markdown",
   "metadata": {},
   "source": [
    "## Parse single structure (subtree) from K page"
   ]
  },
  {
   "cell_type": "code",
   "execution_count": 136,
   "metadata": {},
   "outputs": [],
   "source": [
    "import requests\n",
    "from bs4 import BeautifulSoup\n",
    "from tqdm import tqdm\n",
    "\n",
    "def get_subtree_text(url):\n",
    "    \"\"\" \n",
    "    url like https://www.kegg.jp/entry/K02703 are from \n",
    "    >>> with open(pathway_gene_name_filename, 'r') as f:\n",
    "            gene_ids = []\n",
    "            for i in f.readlines():\n",
    "                gene_ids.append(i[:6])\n",
    "        urls = []\n",
    "        prefix = 'https://www.genome.jp/entry/'\n",
    "        for i in gene_ids:\n",
    "            urls.append(prefix+i)\n",
    "    \"\"\"\n",
    "    response = requests.get(url)\n",
    "    webpage = response.content\n",
    "    gene_id = url[-6:]\n",
    "\n",
    "    soup = BeautifulSoup(webpage, 'html.parser')\n",
    "    for i in soup.find_all('span'):\n",
    "        if '\\xa0'+gene_id in i.text:\n",
    "            target = i\n",
    "    target = str(target).replace('\\xa0', ' ')\\\n",
    "    .replace('</span>', '').replace('<br/>', '')\\\n",
    "    .replace('<span class=\"nowrap\">', '').split('\\n')\n",
    "    root = TreeNode(None)\n",
    "    for i in target:\n",
    "        if i: # skip empty lines\n",
    "            depth = len(i) - len(i.lstrip(' ')) + 1\n",
    "            add_node(root, i.strip(), depth)\n",
    "    return root\n",
    "\n",
    "\n",
    "class TreeNode():\n",
    "    def __init__(self, value) -> None:\n",
    "        self.value = value\n",
    "        self.children = []\n",
    "\n",
    "\n",
    "def print_tree(node, level=0):\n",
    "    if node.value is not None:\n",
    "        print('  ' * level + node.value)\n",
    "    for child in node.children:\n",
    "        print_tree(child, level + 1)\n",
    "\n",
    "\n",
    "def add_node(root, value, depth):\n",
    "    current = root\n",
    "    \n",
    "    for _ in range(depth - 1):\n",
    "        if current.children:\n",
    "            current = current.children[-1]\n",
    "        else:\n",
    "            new_child = TreeNode(None)\n",
    "            current.children.append()\n",
    "            current = new_child\n",
    "    \n",
    "    new_node = TreeNode(value)\n",
    "    current.children.append(new_node)"
   ]
  },
  {
   "cell_type": "code",
   "execution_count": 128,
   "metadata": {},
   "outputs": [],
   "source": [
    "import pickle\n",
    "\n",
    "with open(\"gene_link_K_page.pkl\", 'rb') as p:\n",
    "    urls = pickle.load(p)"
   ]
  },
  {
   "cell_type": "code",
   "execution_count": 137,
   "metadata": {},
   "outputs": [
    {
     "name": "stderr",
     "output_type": "stream",
     "text": [
      "100%|██████████| 63/63 [03:35<00:00,  3.43s/it]\n"
     ]
    }
   ],
   "source": [
    "gene_subtree_dic = {}\n",
    "\n",
    "for url in tqdm(urls):\n",
    "    gene_subtree_dic[url[-6:]] = get_subtree_text(url)\n",
    "\n",
    "with open(\"gene_subtree_dic.pkl\", 'wb') as p:\n",
    "    pickle.dump(gene_subtree_dic, p)"
   ]
  },
  {
   "cell_type": "code",
   "execution_count": 141,
   "metadata": {},
   "outputs": [
    {
     "name": "stdout",
     "output_type": "stream",
     "text": [
      "  KEGG Orthology (KO) [BR:<a href=\"/brite/ko00001+K02111\">ko00001</a>]\n",
      "    09100 Metabolism\n",
      "      09102 Energy metabolism\n",
      "        00190 Oxidative phosphorylation\n",
      "          K02111  ATPF1A, atpA; F-type H+/Na+-transporting ATPase subunit alpha\n",
      "        00195 Photosynthesis\n",
      "          K02111  ATPF1A, atpA; F-type H+/Na+-transporting ATPase subunit alpha\n",
      "    09180 Brite Hierarchies\n",
      "      09181 Protein families: metabolism\n",
      "        00194 Photosynthesis proteins\n",
      "          K02111  ATPF1A, atpA; F-type H+/Na+-transporting ATPase subunit alpha\n",
      "  Enzymes [BR:<a href=\"/brite/ko01000+K02111\">ko01000</a>]\n",
      "    7. Translocases\n",
      "      7.1  Catalysing the translocation of protons\n",
      "        7.1.2  Linked to the hydrolysis of a nucleoside triphosphate\n",
      "          7.1.2.2  H+-transporting two-sector ATPase\n",
      "            K02111  ATPF1A, atpA; F-type H+/Na+-transporting ATPase subunit alpha\n",
      "      7.2  Catalysing the translocation of inorganic cations\n",
      "        7.2.2  Linked to the hydrolysis of a nucleoside triphosphate\n",
      "          7.2.2.1  Na+-transporting two-sector ATPase\n",
      "            K02111  ATPF1A, atpA; F-type H+/Na+-transporting ATPase subunit alpha\n",
      "  Photosynthesis proteins [BR:<a href=\"/brite/ko00194+K02111\">ko00194</a>]\n",
      "    Photosystem and electron transport system\n",
      "      F-type ATPase [OT]\n",
      "        K02111  ATPF1A, atpA; F-type H+/Na+-transporting ATPase subunit alpha\n",
      "  KEGG Orthology (KO) [BR:<a href=\"/brite/ko00001+K02111\">ko00001</a>]\n",
      "    09100 Metabolism\n",
      "      09102 Energy metabolism\n",
      "        00190 Oxidative phosphorylation\n",
      "          K02111  ATPF1A, atpA; F-type H+/Na+-transporting ATPase subunit alpha\n",
      "        00195 Photosynthesis\n",
      "          K02111  ATPF1A, atpA; F-type H+/Na+-transporting ATPase subunit alpha\n",
      "    09180 Brite Hierarchies\n",
      "      09181 Protein families: metabolism\n",
      "        00194 Photosynthesis proteins\n",
      "          K02111  ATPF1A, atpA; F-type H+/Na+-transporting ATPase subunit alpha\n",
      "  Enzymes [BR:<a href=\"/brite/ko01000+K02111\">ko01000</a>]\n",
      "    7. Translocases\n",
      "      7.1  Catalysing the translocation of protons\n",
      "        7.1.2  Linked to the hydrolysis of a nucleoside triphosphate\n",
      "          7.1.2.2  H+-transporting two-sector ATPase\n",
      "            K02111  ATPF1A, atpA; F-type H+/Na+-transporting ATPase subunit alpha\n",
      "      7.2  Catalysing the translocation of inorganic cations\n",
      "        7.2.2  Linked to the hydrolysis of a nucleoside triphosphate\n",
      "          7.2.2.1  Na+-transporting two-sector ATPase\n",
      "            K02111  ATPF1A, atpA; F-type H+/Na+-transporting ATPase subunit alpha\n",
      "  Photosynthesis proteins [BR:<a href=\"/brite/ko00194+K02111\">ko00194</a>]\n",
      "    Photosystem and electron transport system\n",
      "      F-type ATPase [OT]\n",
      "        K02111  ATPF1A, atpA; F-type H+/Na+-transporting ATPase subunit alpha\n"
     ]
    },
    {
     "data": {
      "text/plain": [
       "True"
      ]
     },
     "execution_count": 141,
     "metadata": {},
     "output_type": "execute_result"
    }
   ],
   "source": [
    "print_tree(gene_subtree_dic['K02111']) == print_tree(a)"
   ]
  },
  {
   "cell_type": "code",
   "execution_count": 144,
   "metadata": {},
   "outputs": [
    {
     "data": {
      "text/plain": [
       "dict_keys(['K02108', 'K02109', 'K02110', 'K02111', 'K02112', 'K02113', 'K02114', 'K02115', 'K02634', 'K02635', 'K02636', 'K02637', 'K02638', 'K02639', 'K02640', 'K02641', 'K02642', 'K02643', 'K02689', 'K02690', 'K02691', 'K02692', 'K02693', 'K02694', 'K02695', 'K02696', 'K02697', 'K02698', 'K02699', 'K02700', 'K02701', 'K02702', 'K02703', 'K02704', 'K02705', 'K02706', 'K02707', 'K02708', 'K02709', 'K02710', 'K02711', 'K02712', 'K02713', 'K02714', 'K02716', 'K02717', 'K02718', 'K02719', 'K02720', 'K02721', 'K02722', 'K02723', 'K02724', 'K03541', 'K03542', 'K03689', 'K08901', 'K08902', 'K08903', 'K08904', 'K08905', 'K08906', 'K14332'])"
      ]
     },
     "execution_count": 144,
     "metadata": {},
     "output_type": "execute_result"
    }
   ],
   "source": [
    "gene_subtree_dic_from_pkl.keys()"
   ]
  },
  {
   "cell_type": "code",
   "execution_count": 145,
   "metadata": {},
   "outputs": [
    {
     "name": "stdout",
     "output_type": "stream",
     "text": [
      "  KEGG Orthology (KO) [BR:<a href=\"/brite/ko00001+K02109\">ko00001</a>]\n",
      "    09100 Metabolism\n",
      "      09102 Energy metabolism\n",
      "        00190 Oxidative phosphorylation\n",
      "          K02109  ATPF0B, atpF; F-type H+-transporting ATPase subunit b\n",
      "        00195 Photosynthesis\n",
      "          K02109  ATPF0B, atpF; F-type H+-transporting ATPase subunit b\n",
      "    09180 Brite Hierarchies\n",
      "      09181 Protein families: metabolism\n",
      "        00194 Photosynthesis proteins\n",
      "          K02109  ATPF0B, atpF; F-type H+-transporting ATPase subunit b\n",
      "  Photosynthesis proteins [BR:<a href=\"/brite/ko00194+K02109\">ko00194</a>]\n",
      "    Photosystem and electron transport system\n",
      "      F-type ATPase [OT]\n",
      "        K02109  ATPF0B, atpF; F-type H+-transporting ATPase subunit b\n"
     ]
    }
   ],
   "source": [
    "with open(\"gene_subtree_dic.pkl\", 'rb') as p:\n",
    "    gene_subtree_dic_from_pkl = pickle.load(p)\n",
    "\n",
    "print_tree(gene_subtree_dic_from_pkl['K02109'])"
   ]
  },
  {
   "cell_type": "code",
   "execution_count": 115,
   "metadata": {},
   "outputs": [
    {
     "name": "stdout",
     "output_type": "stream",
     "text": [
      "Finished requesting.\n"
     ]
    },
    {
     "name": "stderr",
     "output_type": "stream",
     "text": [
      "Adding tree nodes: 100%|██████████| 26/26 [00:00<?, ?it/s]\n"
     ]
    }
   ],
   "source": [
    "a = get_subtree_text(\"https://www.kegg.jp/entry/K02111\")"
   ]
  },
  {
   "cell_type": "code",
   "execution_count": 125,
   "metadata": {},
   "outputs": [
    {
     "data": {
      "text/plain": [
       "'K02111  ATPF1A, atpA; F-type H+/Na+-transporting ATPase subunit alpha'"
      ]
     },
     "execution_count": 125,
     "metadata": {},
     "output_type": "execute_result"
    }
   ],
   "source": [
    "a.children[0].children[0].children[0].children[0].children[0].value"
   ]
  },
  {
   "cell_type": "code",
   "execution_count": 116,
   "metadata": {},
   "outputs": [
    {
     "name": "stdout",
     "output_type": "stream",
     "text": [
      "  KEGG Orthology (KO) [BR:<a href=\"/brite/ko00001+K02111\">ko00001</a>]\n",
      "    09100 Metabolism\n",
      "      09102 Energy metabolism\n",
      "        00190 Oxidative phosphorylation\n",
      "          K02111  ATPF1A, atpA; F-type H+/Na+-transporting ATPase subunit alpha\n",
      "        00195 Photosynthesis\n",
      "          K02111  ATPF1A, atpA; F-type H+/Na+-transporting ATPase subunit alpha\n",
      "    09180 Brite Hierarchies\n",
      "      09181 Protein families: metabolism\n",
      "        00194 Photosynthesis proteins\n",
      "          K02111  ATPF1A, atpA; F-type H+/Na+-transporting ATPase subunit alpha\n",
      "  Enzymes [BR:<a href=\"/brite/ko01000+K02111\">ko01000</a>]\n",
      "    7. Translocases\n",
      "      7.1  Catalysing the translocation of protons\n",
      "        7.1.2  Linked to the hydrolysis of a nucleoside triphosphate\n",
      "          7.1.2.2  H+-transporting two-sector ATPase\n",
      "            K02111  ATPF1A, atpA; F-type H+/Na+-transporting ATPase subunit alpha\n",
      "      7.2  Catalysing the translocation of inorganic cations\n",
      "        7.2.2  Linked to the hydrolysis of a nucleoside triphosphate\n",
      "          7.2.2.1  Na+-transporting two-sector ATPase\n",
      "            K02111  ATPF1A, atpA; F-type H+/Na+-transporting ATPase subunit alpha\n",
      "  Photosynthesis proteins [BR:<a href=\"/brite/ko00194+K02111\">ko00194</a>]\n",
      "    Photosystem and electron transport system\n",
      "      F-type ATPase [OT]\n",
      "        K02111  ATPF1A, atpA; F-type H+/Na+-transporting ATPase subunit alpha\n"
     ]
    }
   ],
   "source": [
    "print_tree(a)"
   ]
  },
  {
   "cell_type": "markdown",
   "metadata": {},
   "source": [
    "## Parse total structure (tree) from BR page (need to be finished)"
   ]
  },
  {
   "cell_type": "code",
   "execution_count": null,
   "metadata": {},
   "outputs": [],
   "source": [
    "import requests\n",
    "from bs4 import BeautifulSoup"
   ]
  },
  {
   "cell_type": "code",
   "execution_count": null,
   "metadata": {},
   "outputs": [
    {
     "data": {
      "text/plain": [
       "<Response [200]>"
      ]
     },
     "metadata": {},
     "output_type": "display_data"
    }
   ],
   "source": [
    "a = requests.get(\"https://www.kegg.jp/brite/ko00194\")"
   ]
  },
  {
   "cell_type": "code",
   "execution_count": null,
   "metadata": {},
   "outputs": [],
   "source": [
    "soup = BeautifulSoup(a.content, 'html.parser')"
   ]
  },
  {
   "cell_type": "code",
   "execution_count": null,
   "metadata": {},
   "outputs": [],
   "source": [
    "b = str(soup.find_all('script')[-1]).split('\\n')[1]"
   ]
  },
  {
   "cell_type": "code",
   "execution_count": null,
   "metadata": {},
   "outputs": [
    {
     "name": "stdout",
     "output_type": "stream",
     "text": [
      "\tconst env = {\"visibleIndentHandle\":false,\"columnWidth\":[],\"htextNo\":\"00194\",\"isIndexFile\":false,\"alignTerminalNode\":false,\"zoomout\":null,\"org\":\"ko\",\"joinPruningColumn\":[],\"devMode\":false,\"joinPruningQuery\":[],\"highlight\":{},\"root\":{\"expanded\":true,\"children\":[{\"children\":[{\"values\":[\"Photosystem II (P680 chlorophyll a) [OT]\"],\"children\":[{\"children\":[{\"values\":[\"<a href=\\\"/entry/K02703\\\">K02703</a>  psbA; photosystem II P680 reaction center D1 protein [EC:<a href=\\\"/entry/1.10.3.9\\\">1.10.3.9</a>]\"],\"children\":[],\"expanded\":false},{\"children\":[],\"values\":[\"<a href=\\\"/entry/K02706\\\">K02706</a>  psbD; photosystem II P680 reaction center D2 protein [EC:<a href=\\\"/entry/1.10.3.9\\\">1.10.3.9</a>]\"],\"expanded\":false},{\"values\":[\"<a href=\\\"/entry/K02705\\\">K02705</a>  psbC; photosystem II CP43 chlorophyll apoprotein\"],\"children\":[],\"expanded\":false},{\"values\":[\"<a href=\\\"/entry/K02704\\\">K02704</a>  psbB; photosystem II CP47 chlorophyll apoprotein\"],\"children\":[],\"expanded\":false},{\"children\":[],\"values\":[\"<a href=\\\"/entry/K02707\\\">K02707</a>  psbE; photosystem II cytochrome b559 subunit alpha\"],\"expanded\":false},{\"children\":[],\"values\":[\"<a href=\\\"/entry/K02708\\\">K02708</a>  psbF; photosystem II cytochrome b559 subunit beta\"],\"expanded\":false}],\"values\":[\"Main subunits\"],\"expanded\":false},{\"values\":[\"Other common subunits\"],\"children\":[{\"expanded\":false,\"values\":[\"<a href=\\\"/entry/K02713\\\">K02713</a>  psbL; photosystem II PsbL protein\"],\"children\":[]},{\"expanded\":false,\"values\":[\"<a href=\\\"/entry/K02711\\\">K02711</a>  psbJ; photosystem II PsbJ protein\"],\"children\":[]},{\"values\":[\"<a href=\\\"/entry/K02709\\\">K02709</a>  psbH; photosystem II PsbH protein\"],\"children\":[],\"expanded\":false},{\"expanded\":false,\"children\":[],\"values\":[\"<a href=\\\"/entry/K02710\\\">K02710</a>  psbI; photosystem II PsbI protein\"]},{\"expanded\":false,\"values\":[\"<a href=\\\"/entry/K02712\\\">K02712</a>  psbK; photosystem II PsbK protein\"],\"children\":[]},{\"values\":[\"<a href=\\\"/entry/K02714\\\">K02714</a>  psbM; photosystem II PsbM protein\"],\"children\":[],\"expanded\":false},{\"expanded\":false,\"values\":[\"<a href=\\\"/entry/K02718\\\">K02718</a>  psbT; photosystem II PsbT protein\"],\"children\":[]},{\"values\":[\"<a href=\\\"/entry/K02724\\\">K02724</a>  psbZ; photosystem II PsbZ protein\"],\"children\":[],\"expanded\":false},{\"expanded\":false,\"values\":[\"<a href=\\\"/entry/K02723\\\">K02723</a>  psbY; photosystem II PsbY protein\"],\"children\":[]},{\"values\":[\"<a href=\\\"/entry/K08902\\\">K08902</a>  psb27; photosystem II Psb27 protein\"],\"children\":[],\"expanded\":false},{\"children\":[],\"values\":[\"<a href=\\\"/entry/K08903\\\">K08903</a>  psb28; photosystem II 13kDa protein\"],\"expanded\":false},{\"expanded\":false,\"children\":[],\"values\":[\"<a href=\\\"/entry/K02716\\\">K02716</a>  psbO; photosystem II oxygen-evolving enhancer protein 1\"]},{\"values\":[\"<a href=\\\"/entry/K02717\\\">K02717</a>  psbP; photosystem II oxygen-evolving enhancer protein 2\"],\"children\":[],\"expanded\":false}],\"expanded\":false},{\"values\":[\"Other subunits in plants\"],\"children\":[{\"expanded\":false,\"values\":[\"<a href=\\\"/entry/K08901\\\">K08901</a>  psbQ; photosystem II oxygen-evolving enhancer protein 3\"],\"children\":[]},{\"values\":[\"<a href=\\\"/entry/K03541\\\">K03541</a>  psbR; photosystem II 10kDa protein\"],\"children\":[],\"expanded\":false},{\"expanded\":false,\"children\":[],\"values\":[\"<a href=\\\"/entry/K03542\\\">K03542</a>  psbS; photosystem II 22kDa protein\"]},{\"expanded\":false,\"children\":[],\"values\":[\"<a href=\\\"/entry/K02721\\\">K02721</a>  psbW; photosystem II PsbW protein\"]}],\"expanded\":false},{\"expanded\":false,\"children\":[{\"children\":[],\"values\":[\"<a href=\\\"/entry/K02720\\\">K02720</a>  psbV; photosystem II cytochrome c550\"],\"expanded\":false},{\"expanded\":false,\"values\":[\"<a href=\\\"/entry/K02719\\\">K02719</a>  psbU; photosystem II PsbU protein\"],\"children\":[]},{\"children\":[],\"values\":[\"<a href=\\\"/entry/K02722\\\">K02722</a>  psbX; photosystem II PsbX protein\"],\"expanded\":false},{\"values\":[\"<a href=\\\"/entry/K08904\\\">K08904</a>  psb28-2; photosystem II Psb28-2 protein\"],\"children\":[],\"expanded\":false}],\"values\":[\"Other subunits in cyanobacteria\"]}],\"expanded\":false},{\"children\":[{\"expanded\":false,\"values\":[\"Main subunits\"],\"children\":[{\"values\":[\"<a href=\\\"/entry/K02689\\\">K02689</a>  psaA; photosystem I P700 chlorophyll a apoprotein A1 [EC:<a href=\\\"/entry/1.97.1.12\\\">1.97.1.12</a>]\"],\"children\":[],\"expanded\":false},{\"expanded\":false,\"values\":[\"<a href=\\\"/entry/K02690\\\">K02690</a>  psaB; photosystem I P700 chlorophyll a apoprotein A2 [EC:<a href=\\\"/entry/1.97.1.12\\\">1.97.1.12</a>]\"],\"children\":[]},{\"children\":[],\"values\":[\"<a href=\\\"/entry/K02691\\\">K02691</a>  psaC; photosystem I iron-sulfur center [EC:<a href=\\\"/entry/1.97.1.12\\\">1.97.1.12</a>]\"],\"expanded\":false},{\"values\":[\"<a href=\\\"/entry/K02692\\\">K02692</a>  psaD; photosystem I subunit II\"],\"children\":[],\"expanded\":false},{\"children\":[],\"values\":[\"<a href=\\\"/entry/K02693\\\">K02693</a>  psaE; photosystem I subunit IV\"],\"expanded\":false},{\"expanded\":false,\"values\":[\"<a href=\\\"/entry/K02694\\\">K02694</a>  psaF; photosystem I subunit III\"],\"children\":[]}]},{\"children\":[{\"expanded\":false,\"children\":[],\"values\":[\"<a href=\\\"/entry/K02696\\\">K02696</a>  psaI; photosystem I subunit VIII\"]},{\"expanded\":false,\"values\":[\"<a href=\\\"/entry/K02697\\\">K02697</a>  psaJ; photosystem I subunit IX\"],\"children\":[]},{\"values\":[\"<a href=\\\"/entry/K02698\\\">K02698</a>  psaK; photosystem I subunit X\"],\"children\":[],\"expanded\":false},{\"children\":[],\"values\":[\"<a href=\\\"/entry/K02699\\\">K02699</a>  psaL; photosystem I subunit XI\"],\"expanded\":false}],\"values\":[\"Other common subunits\"],\"expanded\":false},{\"expanded\":false,\"values\":[\"Other subunits in plants\"],\"children\":[{\"expanded\":false,\"values\":[\"<a href=\\\"/entry/K08905\\\">K08905</a>  psaG; photosystem I subunit V\"],\"children\":[]},{\"children\":[],\"values\":[\"<a href=\\\"/entry/K02695\\\">K02695</a>  psaH; photosystem I subunit VI\"],\"expanded\":false},{\"values\":[\"<a href=\\\"/entry/K02701\\\">K02701</a>  psaN; photosystem I subunit PsaN\"],\"children\":[],\"expanded\":false},{\"children\":[],\"values\":[\"<a href=\\\"/entry/K14332\\\">K14332</a>  psaO; photosystem I subunit PsaO\"],\"expanded\":false}]},{\"values\":[\"Other subunits in cyanobacteria\"],\"children\":[{\"values\":[\"<a href=\\\"/entry/K02700\\\">K02700</a>  psaM; photosystem I subunit XII\"],\"children\":[],\"expanded\":false},{\"expanded\":false,\"children\":[],\"values\":[\"<a href=\\\"/entry/K02702\\\">K02702</a>  psaX; photosystem I 4.8kDa protein\"]}],\"expanded\":false}],\"values\":[\"Photosystem I (P700 chlorophyll a) [OT]\"],\"expanded\":false},{\"expanded\":false,\"children\":[{\"expanded\":false,\"children\":[],\"values\":[\"<a href=\\\"/entry/K02634\\\">K02634</a>  petA; apocytochrome f\"]},{\"values\":[\"<a href=\\\"/entry/K02635\\\">K02635</a>  petB; cytochrome b6\"],\"children\":[],\"expanded\":false},{\"expanded\":false,\"values\":[\"<a href=\\\"/entry/K02636\\\">K02636</a>  petC; cytochrome b6-f complex iron-sulfur subunit [EC:<a href=\\\"/entry/7.1.1.6\\\">7.1.1.6</a>]\"],\"children\":[]},{\"values\":[\"<a href=\\\"/entry/K02637\\\">K02637</a>  petD; cytochrome b6-f complex subunit 4\"],\"children\":[],\"expanded\":false},{\"children\":[],\"values\":[\"<a href=\\\"/entry/K02640\\\">K02640</a>  petG; cytochrome b6-f complex subunit 5\"],\"expanded\":false},{\"children\":[],\"values\":[\"<a href=\\\"/entry/K02642\\\">K02642</a>  petL; cytochrome b6-f complex subunit 6\"],\"expanded\":false},{\"values\":[\"<a href=\\\"/entry/K02643\\\">K02643</a>  petM; cytochrome b6-f complex subunit 7\"],\"children\":[],\"expanded\":false},{\"children\":[],\"values\":[\"<a href=\\\"/entry/K03689\\\">K03689</a>  petN; cytochrome b6-f complex subunit 8\"],\"expanded\":false}],\"values\":[\"Cytochrome b6/f complex [OT]\"]},{\"expanded\":false,\"children\":[{\"expanded\":false,\"children\":[],\"values\":[\"<a href=\\\"/entry/K02638\\\">K02638</a>  petE; plastocyanin\"]},{\"expanded\":false,\"values\":[\"<a href=\\\"/entry/K02639\\\">K02639</a>  petF; ferredoxin\"],\"children\":[]},{\"expanded\":false,\"children\":[],\"values\":[\"<a href=\\\"/entry/K02641\\\">K02641</a>  petH; ferredoxin--NADP+ reductase [EC:<a href=\\\"/entry/1.18.1.2\\\">1.18.1.2</a>]\"]},{\"values\":[\"<a href=\\\"/entry/K08906\\\">K08906</a>  petJ; cytochrome c6\"],\"children\":[],\"expanded\":false}],\"values\":[\"Photosynthetic electron transport\"]},{\"children\":[{\"values\":[\"<a href=\\\"/entry/K02114\\\">K02114</a>  ATPF1E, atpC; F-type H+-transporting ATPase subunit epsilon\"],\"children\":[],\"expanded\":false},{\"values\":[\"<a href=\\\"/entry/K02112\\\">K02112</a>  ATPF1B, atpD; F-type H+/Na+-transporting ATPase subunit beta [EC:<a href=\\\"/entry/7.1.2.2\\\">7.1.2.2</a> <a href=\\\"/entry/7.2.2.1\\\">7.2.2.1</a>]\"],\"children\":[],\"expanded\":false},{\"children\":[],\"values\":[\"<a href=\\\"/entry/K02115\\\">K02115</a>  ATPF1G, atpG; F-type H+-transporting ATPase subunit gamma\"],\"expanded\":false},{\"expanded\":false,\"children\":[],\"values\":[\"<a href=\\\"/entry/K02111\\\">K02111</a>  ATPF1A, atpA; F-type H+/Na+-transporting ATPase subunit alpha [EC:<a href=\\\"/entry/7.1.2.2\\\">7.1.2.2</a> <a href=\\\"/entry/7.2.2.1\\\">7.2.2.1</a>]\"]},{\"expanded\":false,\"values\":[\"<a href=\\\"/entry/K02113\\\">K02113</a>  ATPF1D, atpH; F-type H+-transporting ATPase subunit delta\"],\"children\":[]},{\"values\":[\"<a href=\\\"/entry/K02109\\\">K02109</a>  ATPF0B, atpF; F-type H+-transporting ATPase subunit b\"],\"children\":[],\"expanded\":false},{\"expanded\":false,\"values\":[\"<a href=\\\"/entry/K02110\\\">K02110</a>  ATPF0C, atpE; F-type H+-transporting ATPase subunit c\"],\"children\":[]},{\"values\":[\"<a href=\\\"/entry/K02108\\\">K02108</a>  ATPF0A, atpB; F-type H+-transporting ATPase subunit a\"],\"children\":[],\"expanded\":false},{\"expanded\":false,\"children\":[],\"values\":[\"<a href=\\\"/entry/K02116\\\">K02116</a>  atpI; ATP synthase protein I\"]}],\"values\":[\"F-type ATPase [OT]\"],\"expanded\":false}],\"values\":[\"<b>Photosystem and electron transport system</b>\"],\"expanded\":false},{\"expanded\":false,\"values\":[],\"children\":[]},{\"values\":[\"<b>Antenna proteins</b>\"],\"children\":[{\"values\":[\"Phycobilisome - Cyanobacteria, Red alga [OT]\"],\"children\":[{\"expanded\":false,\"values\":[\"Allophycocyanin (AP)\"],\"children\":[{\"expanded\":false,\"values\":[\"<a href=\\\"/entry/K02092\\\">K02092</a>  apcA; allophycocyanin alpha subunit\"],\"children\":[]},{\"expanded\":false,\"values\":[\"<a href=\\\"/entry/K02093\\\">K02093</a>  apcB; allophycocyanin beta subunit\"],\"children\":[]},{\"expanded\":false,\"children\":[],\"values\":[\"<a href=\\\"/entry/K02094\\\">K02094</a>  apcC; phycobilisome core linker protein\"]},{\"children\":[],\"values\":[\"<a href=\\\"/entry/K02095\\\">K02095</a>  apcD; allophycocyanin-B\"],\"expanded\":false},{\"expanded\":false,\"values\":[\"<a href=\\\"/entry/K02096\\\">K02096</a>  apcE; phycobilisome core-membrane linker protein\"],\"children\":[]},{\"values\":[\"<a href=\\\"/entry/K02097\\\">K02097</a>  apcF; phycobilisome core component\"],\"children\":[],\"expanded\":false}]},{\"values\":[\"Phycocyanin (PC)\"],\"children\":[{\"expanded\":false,\"values\":[\"<a href=\\\"/entry/K02284\\\">K02284</a>  cpcA; phycocyanin alpha chain\"],\"children\":[]},{\"expanded\":false,\"children\":[],\"values\":[\"<a href=\\\"/entry/K02285\\\">K02285</a>  cpcB; phycocyanin beta chain\"]},{\"children\":[],\"values\":[\"<a href=\\\"/entry/K02286\\\">K02286</a>  cpcC; phycocyanin-associated rod linker protein\"],\"expanded\":false},{\"children\":[],\"values\":[\"<a href=\\\"/entry/K02287\\\">K02287</a>  cpcD; phycocyanin-associated, rod\"],\"expanded\":false},{\"children\":[],\"values\":[\"<a href=\\\"/entry/K02288\\\">K02288</a>  cpcE; phycocyanobilin lyase subunit alpha [EC:<a href=\\\"/entry/4.4.1.32\\\">4.4.1.32</a>]\"],\"expanded\":false},{\"expanded\":false,\"values\":[\"<a href=\\\"/entry/K02289\\\">K02289</a>  cpcF; phycocyanobilin lyase subunit beta [EC:<a href=\\\"/entry/4.4.1.32\\\">4.4.1.32</a>]\"],\"children\":[]},{\"children\":[],\"values\":[\"<a href=\\\"/entry/K20713\\\">K20713</a>  rpcG; R-phycocyanin alpha-cysteine-84 phycourobilin lyase/isomerase [EC:<a href=\\\"/entry/4.4.1.33\\\">4.4.1.33</a>]\"],\"expanded\":false},{\"expanded\":false,\"values\":[\"<a href=\\\"/entry/K02290\\\">K02290</a>  cpcG; phycobilisome rod-core linker protein\"],\"children\":[]}],\"expanded\":false},{\"children\":[{\"expanded\":false,\"values\":[\"<a href=\\\"/entry/K02628\\\">K02628</a>  pecA; phycoerythrocyanin alpha chain\"],\"children\":[]},{\"values\":[\"<a href=\\\"/entry/K02629\\\">K02629</a>  pecB; phycoerythrocyanin beta chain\"],\"children\":[],\"expanded\":false},{\"values\":[\"<a href=\\\"/entry/K02630\\\">K02630</a>  pecC; phycoerythrocyanin-associated rod linker protein\"],\"children\":[],\"expanded\":false},{\"children\":[],\"values\":[\"<a href=\\\"/entry/K02631\\\">K02631</a>  pecE; phycoerythrocyanin alpha-cysteine-84 phycoviolobilin lyase/isomerase subunit PecE [EC:<a href=\\\"/entry/4.4.1.31\\\">4.4.1.31</a>]\"],\"expanded\":false},{\"values\":[\"<a href=\\\"/entry/K02632\\\">K02632</a>  pecF; phycoerythrocyanin alpha-cysteine-84 phycoviolobilin lyase/isomerase subunit PecF [EC:<a href=\\\"/entry/4.4.1.31\\\">4.4.1.31</a>]\"],\"children\":[],\"expanded\":false}],\"values\":[\"Phycoerythrocyanin (PEC)\"],\"expanded\":false},{\"children\":[{\"expanded\":false,\"values\":[\"<a href=\\\"/entry/K05376\\\">K05376</a>  cpeA, mpeA; phycoerythrin alpha chain\"],\"children\":[]},{\"expanded\":false,\"children\":[],\"values\":[\"<a href=\\\"/entry/K05377\\\">K05377</a>  cpeB, mpeB; phycoerythrin beta chain\"]},{\"children\":[],\"values\":[\"<a href=\\\"/entry/K05378\\\">K05378</a>  cpeC, mpeC; phycoerythrin-associated linker protein\"],\"expanded\":false},{\"expanded\":false,\"values\":[\"<a href=\\\"/entry/K05379\\\">K05379</a>  cpeD, mpeD; phycoerythrin-associated linker protein\"],\"children\":[]},{\"values\":[\"<a href=\\\"/entry/K05380\\\">K05380</a>  cpeE; phycoerythrin-associated linker protein\"],\"children\":[],\"expanded\":false},{\"children\":[],\"values\":[\"<a href=\\\"/entry/K05381\\\">K05381</a>  cpeR; phycoerythrin-associated linker protein\"],\"expanded\":false},{\"values\":[\"<a href=\\\"/entry/K05382\\\">K05382</a>  cpeS; phycoerythrin-associated linker protein\"],\"children\":[],\"expanded\":false},{\"values\":[\"<a href=\\\"/entry/K05383\\\">K05383</a>  cpeT; CpeT protein\"],\"children\":[],\"expanded\":false},{\"children\":[],\"values\":[\"<a href=\\\"/entry/K05384\\\">K05384</a>  cpeU, mpeU; bilin biosynthesis protein\"],\"expanded\":false},{\"expanded\":false,\"values\":[\"<a href=\\\"/entry/K05385\\\">K05385</a>  cpeY; bilin biosynthesis protein\"],\"children\":[]},{\"children\":[],\"values\":[\"<a href=\\\"/entry/K05386\\\">K05386</a>  cpeZ; bilin biosynthesis protein\"],\"expanded\":false}],\"values\":[\"Phycoerythrin (PE)\"],\"expanded\":false}],\"expanded\":false},{\"expanded\":false,\"values\":[\"Light-harvesting chlorophyll-protein complex (LHC) - Plant, Green alga [OT]\"],\"children\":[{\"values\":[\"LHCI\"],\"children\":[{\"children\":[],\"values\":[\"<a href=\\\"/entry/K08907\\\">K08907</a>  LHCA1; light-harvesting complex I chlorophyll a/b binding protein 1\"],\"expanded\":false},{\"expanded\":false,\"children\":[],\"values\":[\"<a href=\\\"/entry/K08908\\\">K08908</a>  LHCA2; light-harvesting complex I chlorophyll a/b binding protein 2\"]},{\"expanded\":false,\"children\":[],\"values\":[\"<a href=\\\"/entry/K08909\\\">K08909</a>  LHCA3; light-harvesting complex I chlorophyll a/b binding protein 3\"]},{\"expanded\":false,\"values\":[\"<a href=\\\"/entry/K08910\\\">K08910</a>  LHCA4; light-harvesting complex I chlorophyll a/b binding protein 4\"],\"children\":[]},{\"expanded\":false,\"values\":[\"<a href=\\\"/entry/K08911\\\">K08911</a>  LHCA5; light-harvesting complex I chlorophyll a/b binding protein 5\"],\"children\":[]}],\"expanded\":false},{\"expanded\":false,\"values\":[\"LHCII\"],\"children\":[{\"expanded\":false,\"children\":[],\"values\":[\"<a href=\\\"/entry/K08912\\\">K08912</a>  LHCB1; light-harvesting complex II chlorophyll a/b binding protein 1\"]},{\"expanded\":false,\"children\":[],\"values\":[\"<a href=\\\"/entry/K08913\\\">K08913</a>  LHCB2; light-harvesting complex II chlorophyll a/b binding protein 2\"]},{\"expanded\":false,\"values\":[\"<a href=\\\"/entry/K08914\\\">K08914</a>  LHCB3; light-harvesting complex II chlorophyll a/b binding protein 3\"],\"children\":[]},{\"expanded\":false,\"children\":[],\"values\":[\"<a href=\\\"/entry/K08915\\\">K08915</a>  LHCB4; light-harvesting complex II chlorophyll a/b binding protein 4\"]},{\"children\":[],\"values\":[\"<a href=\\\"/entry/K08916\\\">K08916</a>  LHCB5; light-harvesting complex II chlorophyll a/b binding protein 5\"],\"expanded\":false},{\"children\":[],\"values\":[\"<a href=\\\"/entry/K08917\\\">K08917</a>  LHCB6; light-harvesting complex II chlorophyll a/b binding protein 6\"],\"expanded\":false},{\"values\":[\"<a href=\\\"/entry/K14172\\\">K14172</a>  LHCB7; light-harvesting complex II chlorophyll a/b binding protein 7\"],\"children\":[],\"expanded\":false}]}]},{\"expanded\":false,\"children\":[{\"values\":[\"<a href=\\\"/entry/K08918\\\">K08918</a>  pcbA; chlorophyll a/b binding light-harvesting protein PcbA\"],\"children\":[],\"expanded\":false},{\"expanded\":false,\"children\":[],\"values\":[\"<a href=\\\"/entry/K08919\\\">K08919</a>  pcbB; chlorophyll a/b binding light-harvesting protein PcbB\"]},{\"expanded\":false,\"values\":[\"<a href=\\\"/entry/K08920\\\">K08920</a>  pcbC; chlorophyll a/b binding light-harvesting protein PcbC\"],\"children\":[]},{\"expanded\":false,\"values\":[\"<a href=\\\"/entry/K08921\\\">K08921</a>  pcbD; chlorophyll a/b binding light-harvesting protein PcbD\"],\"children\":[]},{\"expanded\":false,\"children\":[],\"values\":[\"<a href=\\\"/entry/K08922\\\">K08922</a>  pcbE; chlorophyll a/b binding light-harvesting protein PcbE\"]},{\"children\":[],\"values\":[\"<a href=\\\"/entry/K08923\\\">K08923</a>  pcbF; chlorophyll a/b binding light-harvesting protein PcbF\"],\"expanded\":false},{\"expanded\":false,\"values\":[\"<a href=\\\"/entry/K08924\\\">K08924</a>  pcbG; chlorophyll a/b binding light-harvesting protein PcbG\"],\"children\":[]},{\"values\":[\"<a href=\\\"/entry/K08925\\\">K08925</a>  pcbH; chlorophyll a/b binding light-harvesting protein PcbH\"],\"children\":[],\"expanded\":false}],\"values\":[\"Chlorophyll a/b binding light-harvesting protein (PCB) - Prochlorophyta [OT]\"]}],\"expanded\":false},{\"expanded\":false,\"values\":[],\"children\":[]},{\"expanded\":false,\"values\":[\"<b>Anoxygenic photosystem</b>\"],\"children\":[{\"children\":[{\"values\":[\"RC-LH1 complex\"],\"children\":[{\"expanded\":false,\"values\":[\"<a href=\\\"/entry/K08928\\\">K08928</a>  pufL; photosynthetic reaction center L subunit\"],\"children\":[]},{\"values\":[\"<a href=\\\"/entry/K08929\\\">K08929</a>  pufM; photosynthetic reaction center M subunit\"],\"children\":[],\"expanded\":false},{\"expanded\":false,\"values\":[\"<a href=\\\"/entry/K13991\\\">K13991</a>  puhA; photosynthetic reaction center H subunit\"],\"children\":[]},{\"values\":[\"<a href=\\\"/entry/K13994\\\">K13994</a>  pufX; photosynthetic reaction center PufX protein\"],\"children\":[],\"expanded\":false},{\"expanded\":false,\"values\":[\"<a href=\\\"/entry/K13992\\\">K13992</a>  pufC; photosynthetic reaction center cytochrome c subunit\"],\"children\":[]},{\"children\":[],\"values\":[\"<a href=\\\"/entry/K08926\\\">K08926</a>  pufA; light-harvesting complex 1 alpha chain\"],\"expanded\":false},{\"expanded\":false,\"children\":[],\"values\":[\"<a href=\\\"/entry/K08927\\\">K08927</a>  pufB; light-harvesting complex 1 beta chain\"]}],\"expanded\":false},{\"values\":[\"LH2\"],\"children\":[{\"expanded\":false,\"values\":[\"<a href=\\\"/entry/K08930\\\">K08930</a>  pucA; light-harvesting protein B-800-850 alpha chain\"],\"children\":[]},{\"expanded\":false,\"values\":[\"<a href=\\\"/entry/K08939\\\">K08939</a>  pucB; light-harvesting protein B-800-850 beta chain\"],\"children\":[]}],\"expanded\":false}],\"values\":[\"Purple bacteria - Photosystem II related [OT]\"],\"expanded\":false},{\"values\":[\"Green sulfur bacteria - Photosystem I related [OT]\"],\"children\":[{\"expanded\":false,\"children\":[{\"children\":[],\"values\":[\"<a href=\\\"/entry/K08940\\\">K08940</a>  pscA; photosystem P840 reaction center large subunit\"],\"expanded\":false},{\"expanded\":false,\"children\":[],\"values\":[\"<a href=\\\"/entry/K08941\\\">K08941</a>  pscB; photosystem P840 reaction center iron-sulfur protein\"]},{\"expanded\":false,\"children\":[],\"values\":[\"<a href=\\\"/entry/K08942\\\">K08942</a>  pscC; photosystem P840 reaction center cytochrome c551\"]},{\"values\":[\"<a href=\\\"/entry/K08943\\\">K08943</a>  pscD; photosystem P840 reaction center protein PscD\"],\"children\":[],\"expanded\":false}],\"values\":[\"Reaction center\"]},{\"children\":[{\"values\":[\"<a href=\\\"/entry/K08944\\\">K08944</a>  fmoA; bacteriochlorophyll A protein\"],\"children\":[],\"expanded\":false}],\"values\":[\"FMO Protein\"],\"expanded\":false},{\"expanded\":false,\"children\":[{\"expanded\":false,\"values\":[\"<a href=\\\"/entry/K08945\\\">K08945</a>  csmA; chlorosome envelope protein A\"],\"children\":[]},{\"values\":[\"<a href=\\\"/entry/K08946\\\">K08946</a>  csmB; chlorosome envelope protein B\"],\"children\":[],\"expanded\":false},{\"expanded\":false,\"values\":[\"<a href=\\\"/entry/K08947\\\">K08947</a>  csmC; chlorosome envelope protein C\"],\"children\":[]},{\"expanded\":false,\"children\":[],\"values\":[\"<a href=\\\"/entry/K08948\\\">K08948</a>  csmD; chlorosome envelope protein D\"]},{\"expanded\":false,\"values\":[\"<a href=\\\"/entry/K08949\\\">K08949</a>  csmE; chlorosome envelope protein E\"],\"children\":[]},{\"expanded\":false,\"children\":[],\"values\":[\"<a href=\\\"/entry/K08950\\\">K08950</a>  csmF; chlorosome envelope protein F\"]},{\"expanded\":false,\"values\":[\"<a href=\\\"/entry/K08951\\\">K08951</a>  csmH; chlorosome envelope protein H\"],\"children\":[]},{\"children\":[],\"values\":[\"<a href=\\\"/entry/K08952\\\">K08952</a>  csmI; chlorosome envelope protein I\"],\"expanded\":false},{\"children\":[],\"values\":[\"<a href=\\\"/entry/K08953\\\">K08953</a>  csmJ; chlorosome envelope protein J\"],\"expanded\":false},{\"expanded\":false,\"values\":[\"<a href=\\\"/entry/K08954\\\">K08954</a>  csmX; chlorosome envelope protein X\"],\"children\":[]}],\"values\":[\"Chlorosome\"]}],\"expanded\":false}]}],\"values\":[],\"isRoot\":true},\"columnTitle\":[\"Photosynthesis protein\"]}\n"
     ]
    }
   ],
   "source": [
    "print(b)"
   ]
  }
 ],
 "metadata": {
  "kernelspec": {
   "display_name": "Python 3",
   "language": "python",
   "name": "python3"
  },
  "language_info": {
   "codemirror_mode": {
    "name": "ipython",
    "version": 3
   },
   "file_extension": ".py",
   "mimetype": "text/x-python",
   "name": "python",
   "nbconvert_exporter": "python",
   "pygments_lexer": "ipython3",
   "version": "3.11.8"
  }
 },
 "nbformat": 4,
 "nbformat_minor": 2
}
