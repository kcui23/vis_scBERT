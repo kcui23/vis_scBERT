{
 "cells": [
  {
   "cell_type": "code",
   "execution_count": 124,
   "metadata": {},
   "outputs": [],
   "source": [
    "import pickle\n",
    "import numpy as np"
   ]
  },
  {
   "cell_type": "code",
   "execution_count": 71,
   "metadata": {},
   "outputs": [],
   "source": [
    "with open(\"nt_seq_dic.pkl\", 'rb') as p:\n",
    "    nt_seq_dic = pickle.load(p)\n",
    "\n",
    "with open(\"gene_subtree_dic.pkl\", 'rb') as p:\n",
    "    gene_subtree_dic = pickle.load(p)\n",
    "\n",
    "with open(\"total_BR_tree_dic.pkl\", 'rb') as p:\n",
    "    total_BR_tree_dic = pickle.load(p)"
   ]
  },
  {
   "cell_type": "code",
   "execution_count": 10,
   "metadata": {},
   "outputs": [
    {
     "data": {
      "text/plain": [
       "63"
      ]
     },
     "execution_count": 10,
     "metadata": {},
     "output_type": "execute_result"
    }
   ],
   "source": [
    "len(gene_subtree_dic.keys())"
   ]
  },
  {
   "cell_type": "code",
   "execution_count": 7,
   "metadata": {},
   "outputs": [],
   "source": [
    "from mytree import *"
   ]
  },
  {
   "cell_type": "code",
   "execution_count": 76,
   "metadata": {},
   "outputs": [
    {
     "name": "stdout",
     "output_type": "stream",
     "text": [
      "4\n"
     ]
    }
   ],
   "source": [
    "import copy\n",
    "\n",
    "count=0\n",
    "gene_node_list = []\n",
    "current_name = \"Photosynthesis proteins\"\n",
    "\n",
    "for i in gene_subtree_dic.keys():\n",
    "    count+=1\n",
    "    tmp_node, _ = find_deepest_node(gene_subtree_dic[i], current_name)\n",
    "    gene_node_list.append(tmp_node)\n",
    "\n",
    "\n",
    "root = total_BR_tree_dic['ko00194']\n",
    "print(cal_tree_distance(root, gene_node_list[-4], gene_node_list[-5]))\n",
    "\n",
    "# clean up gene names\n",
    "nice_name_gene_node_list = copy.deepcopy(gene_node_list)\n",
    "for i in range(len(gene_node_list)):\n",
    "    if i < 8:\n",
    "        nice_name_gene_node_list[i].value = gene_node_list[i].value[16:].split(';')[0]\n",
    "    else:\n",
    "        nice_name_gene_node_list[i].value = gene_node_list[i].value[8:].split(';')[0]"
   ]
  },
  {
   "cell_type": "code",
   "execution_count": 118,
   "metadata": {},
   "outputs": [],
   "source": [
    "flag={}\n",
    "notin = set()\n",
    "for i in nt_seq_dic.keys():\n",
    "    for j in nice_name_gene_node_list:\n",
    "        if i.lower() in j.value.lower():\n",
    "            flag[i] = flag.get(i, 0)+1\n",
    "            break\n",
    "        elif j == nice_name_gene_node_list[-1]:\n",
    "            notin.add(i)"
   ]
  },
  {
   "cell_type": "code",
   "execution_count": 112,
   "metadata": {},
   "outputs": [],
   "source": [
    "correct = {\n",
    "    'CYTC6A': 'petJ',\n",
    "    'PSAE-2': 'psaE',\n",
    "    'PSBP-1': 'psbP',\n",
    "    'PnsL2': 'psbQ',\n",
    "    'NPQ4': 'psbS',\n",
    "    'PSAD-2': 'psaD',\n",
    "    'PSAH2': 'psaH',\n",
    "    'DRT112': 'petE',\n",
    "    'FD1': 'petF',\n",
    "    'FNR2':'petH'\n",
    "}"
   ]
  },
  {
   "cell_type": "code",
   "execution_count": 116,
   "metadata": {},
   "outputs": [],
   "source": [
    "# clean names in nice_name_gene_node_lise\n",
    "for k,v in correct.items():\n",
    "    for i in nice_name_gene_node_list:\n",
    "        if v == i.value:\n",
    "            i.value = k"
   ]
  },
  {
   "cell_type": "code",
   "execution_count": 119,
   "metadata": {},
   "outputs": [
    {
     "data": {
      "text/plain": [
       "{'ATPC2', 'PSBO2', 'atpI'}"
      ]
     },
     "execution_count": 119,
     "metadata": {},
     "output_type": "execute_result"
    }
   ],
   "source": [
    "notin"
   ]
  },
  {
   "cell_type": "code",
   "execution_count": 143,
   "metadata": {},
   "outputs": [
    {
     "name": "stdout",
     "output_type": "stream",
     "text": [
      "51\n"
     ]
    }
   ],
   "source": [
    "fixed_gene_names = list(nt_seq_dic.keys())\n",
    "fixed_gene_names.remove('atpI')\n",
    "fixed_gene_names.remove('PSBO2')\n",
    "fixed_gene_names.remove('ATPC2')\n",
    "only_names_gene_node = []\n",
    "\n",
    "length = 0\n",
    "for i in fixed_gene_names:\n",
    "    for j in nice_name_gene_node_list:\n",
    "        if i.lower() == j.value.lower():\n",
    "            length+=1\n",
    "\n",
    "for i in nice_name_gene_node_list:\n",
    "    only_names_gene_node.append(i.value.lower())\n",
    "\n",
    "print(length)\n",
    "\n",
    "ground_truth_tree_dist = np.zeros((length, length), dtype=float)\n",
    "for i in range(length):\n",
    "    index = only_names_gene_node.index(fixed_gene_names[i].lower())\n",
    "    node_i = gene_node_list[i]\n",
    "    for j in range(length):\n",
    "        index = only_names_gene_node.index(fixed_gene_names[j].lower())\n",
    "        node_j = gene_node_list[j]\n",
    "        ground_truth_tree_dist[i, j] = cal_tree_distance(root, node_i, node_j)"
   ]
  },
  {
   "cell_type": "code",
   "execution_count": 145,
   "metadata": {},
   "outputs": [],
   "source": [
    "with open('ground_truth_dist_tuple.pkl', 'wb') as p:\n",
    "    pickle.dump((fixed_gene_names, ground_truth_tree_dist), p)"
   ]
  }
 ],
 "metadata": {
  "kernelspec": {
   "display_name": "scenv",
   "language": "python",
   "name": "python3"
  },
  "language_info": {
   "codemirror_mode": {
    "name": "ipython",
    "version": 3
   },
   "file_extension": ".py",
   "mimetype": "text/x-python",
   "name": "python",
   "nbconvert_exporter": "python",
   "pygments_lexer": "ipython3",
   "version": "3.11.8"
  }
 },
 "nbformat": 4,
 "nbformat_minor": 2
}
