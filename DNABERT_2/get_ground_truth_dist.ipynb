{
 "cells": [
  {
   "cell_type": "markdown",
   "metadata": {},
   "source": [
    "## Build ground truth tuple from ath dataset"
   ]
  },
  {
   "cell_type": "code",
   "execution_count": 8,
   "metadata": {},
   "outputs": [
    {
     "data": {
      "text/plain": [
       "63"
      ]
     },
     "execution_count": 8,
     "metadata": {},
     "output_type": "execute_result"
    }
   ],
   "source": [
    "import pickle\n",
    "import numpy as np\n",
    "\n",
    "with open(\"nt_seq_dic.pkl\", 'rb') as p:\n",
    "    nt_seq_dic = pickle.load(p)\n",
    "with open(\"gene_subtree_dic.pkl\", 'rb') as p:\n",
    "    gene_subtree_dic = pickle.load(p)\n",
    "with open(\"total_BR_tree_dic.pkl\", 'rb') as p:\n",
    "    total_BR_tree_dic = pickle.load(p)\n",
    "\n",
    "len(gene_subtree_dic.keys())"
   ]
  },
  {
   "cell_type": "code",
   "execution_count": 9,
   "metadata": {},
   "outputs": [
    {
     "name": "stdout",
     "output_type": "stream",
     "text": [
      "4\n"
     ]
    }
   ],
   "source": [
    "from mytree import *\n",
    "import copy\n",
    "\n",
    "count=0\n",
    "gene_node_list = []\n",
    "current_name = \"Photosynthesis proteins\"\n",
    "\n",
    "for i in gene_subtree_dic.keys():\n",
    "    count+=1\n",
    "    tmp_node, _ = find_deepest_node(gene_subtree_dic[i], current_name)\n",
    "    gene_node_list.append(tmp_node)\n",
    "\n",
    "\n",
    "root = total_BR_tree_dic['ko00194']\n",
    "print(cal_tree_distance(root, gene_node_list[-4], gene_node_list[-5]))\n",
    "\n",
    "# clean up gene names\n",
    "nice_name_gene_node_list = copy.deepcopy(gene_node_list)\n",
    "for i in range(len(gene_node_list)):\n",
    "    if i < 8:\n",
    "        nice_name_gene_node_list[i].value = gene_node_list[i].value[16:].split(';')[0]\n",
    "    else:\n",
    "        nice_name_gene_node_list[i].value = gene_node_list[i].value[8:].split(';')[0]"
   ]
  },
  {
   "cell_type": "code",
   "execution_count": 10,
   "metadata": {},
   "outputs": [],
   "source": [
    "flag={}\n",
    "notin = set()\n",
    "for i in nt_seq_dic.keys():\n",
    "    for j in nice_name_gene_node_list:\n",
    "        if i.lower() in j.value.lower():\n",
    "            flag[i] = flag.get(i, 0)+1\n",
    "            break\n",
    "        elif j == nice_name_gene_node_list[-1]:\n",
    "            notin.add(i)"
   ]
  },
  {
   "cell_type": "code",
   "execution_count": 11,
   "metadata": {},
   "outputs": [],
   "source": [
    "correct = {\n",
    "    'CYTC6A': 'petJ',\n",
    "    'PSAE-2': 'psaE',\n",
    "    'PSBP-1': 'psbP',\n",
    "    'PnsL2': 'psbQ',\n",
    "    'NPQ4': 'psbS',\n",
    "    'PSAD-2': 'psaD',\n",
    "    'PSAH2': 'psaH',\n",
    "    'DRT112': 'petE',\n",
    "    'FD1': 'petF',\n",
    "    'FNR2':'petH'\n",
    "}"
   ]
  },
  {
   "cell_type": "code",
   "execution_count": 12,
   "metadata": {},
   "outputs": [],
   "source": [
    "# clean names in nice_name_gene_node_lise\n",
    "for k,v in correct.items():\n",
    "    for i in nice_name_gene_node_list:\n",
    "        if v == i.value:\n",
    "            i.value = k"
   ]
  },
  {
   "cell_type": "code",
   "execution_count": 13,
   "metadata": {},
   "outputs": [
    {
     "data": {
      "text/plain": [
       "{'ATPC2',\n",
       " 'CYTC6A',\n",
       " 'DRT112',\n",
       " 'FD1',\n",
       " 'FNR2',\n",
       " 'NPQ4',\n",
       " 'PSAD-2',\n",
       " 'PSAE-2',\n",
       " 'PSAH2',\n",
       " 'PSBO2',\n",
       " 'PSBP-1',\n",
       " 'PnsL2',\n",
       " 'atpI'}"
      ]
     },
     "execution_count": 13,
     "metadata": {},
     "output_type": "execute_result"
    }
   ],
   "source": [
    "notin"
   ]
  },
  {
   "cell_type": "code",
   "execution_count": 14,
   "metadata": {},
   "outputs": [
    {
     "name": "stdout",
     "output_type": "stream",
     "text": [
      "51\n"
     ]
    }
   ],
   "source": [
    "fixed_gene_names = list(nt_seq_dic.keys())\n",
    "fixed_gene_names.remove('atpI')\n",
    "fixed_gene_names.remove('PSBO2')\n",
    "fixed_gene_names.remove('ATPC2')\n",
    "only_names_gene_node = []\n",
    "\n",
    "length = 0\n",
    "for i in fixed_gene_names:\n",
    "    for j in nice_name_gene_node_list:\n",
    "        if i.lower() == j.value.lower():\n",
    "            length+=1\n",
    "\n",
    "for i in nice_name_gene_node_list:\n",
    "    only_names_gene_node.append(i.value.lower())\n",
    "\n",
    "print(length)\n",
    "\n",
    "ground_truth_tree_dist = np.zeros((length, length), dtype=float)\n",
    "for i in range(length):\n",
    "    index = only_names_gene_node.index(fixed_gene_names[i].lower())\n",
    "    node_i = gene_node_list[i]\n",
    "    for j in range(length):\n",
    "        index = only_names_gene_node.index(fixed_gene_names[j].lower())\n",
    "        node_j = gene_node_list[j]\n",
    "        ground_truth_tree_dist[i, j] = cal_tree_distance(root, node_i, node_j)"
   ]
  },
  {
   "cell_type": "code",
   "execution_count": 145,
   "metadata": {},
   "outputs": [],
   "source": [
    "with open('ground_truth_dist_tuple.pkl', 'wb') as p:\n",
    "    pickle.dump((fixed_gene_names, ground_truth_tree_dist), p)"
   ]
  },
  {
   "cell_type": "markdown",
   "metadata": {},
   "source": [
    "## Build ground truth tuple from human dataset"
   ]
  },
  {
   "cell_type": "code",
   "execution_count": null,
   "metadata": {},
   "outputs": [],
   "source": [
    "from mytree import *\n",
    "from get_gene_name_and_seq import get_NT_seq\n",
    "import numpy as np\n",
    "import pickle\n",
    "import copy\n",
    "from tqdm import tqdm\n",
    "\n",
    "with open('human_total_BR_tree_dic.pkl', 'rb') as p:\n",
    "    human_dic = pickle.load(p)\n",
    "\n",
    "root = human_dic['sa00001']\n",
    "deepest_nodes_list, _ = find_deepest_node(root, '', from_root_get_all=True)\n",
    "\n",
    "index = list(range(len(deepest_nodes_list)))\n",
    "human_gene_name_list = [\"hsa:\"+deepest_nodes_list[i].value.split()[0] for i in index]\n",
    "human_gene_ntseq_link_list = [\"https://www.kegg.jp/entry/\"+i for i in human_gene_name_list]\n",
    "\n",
    "# Test: select random 100 genes\n",
    "np.random.seed(0)\n",
    "sample_size = 10\n",
    "index = np.random.choice(len(deepest_nodes_list), sample_size, replace=False)\n",
    "human_gene_name_list = [\"hsa:\"+deepest_nodes_list[i].value.split()[0] for i in index]\n",
    "human_gene_ntseq_link_list = [\"https://www.kegg.jp/entry/\"+i for i in human_gene_name_list]\n",
    "\n",
    "real_name_list = []\n",
    "# get all nt seq and build a dictionary\n",
    "human_nt_seq_dic = {}\n",
    "for i in tqdm(range(len(human_gene_name_list))):\n",
    "    name, seq = get_NT_seq(human_gene_ntseq_link_list[i])\n",
    "    real_name_list.append(name)\n",
    "    human_nt_seq_dic[name] = seq\n",
    "\n",
    "# clculate the distance matrix\n",
    "length = len(real_name_list)\n",
    "ground_truth_tree_dist = np.zeros((length, length), dtype=float)\n",
    "for i in index:\n",
    "    node_i = deepest_nodes_list[i]\n",
    "    for j in index:\n",
    "        node_j = deepest_nodes_list[j]\n",
    "        ground_truth_tree_dist[i, j] = cal_tree_distance(root, node_i, node_j)"
   ]
  },
  {
   "cell_type": "markdown",
   "metadata": {},
   "source": [
    "---"
   ]
  },
  {
   "cell_type": "code",
   "execution_count": 139,
   "metadata": {},
   "outputs": [
    {
     "name": "stdout",
     "output_type": "stream",
     "text": [
      "0\n"
     ]
    }
   ],
   "source": [
    "with open('human_enzymes_BR_tree_dic.pkl', 'rb') as p:\n",
    "    human_enzymes_dic = pickle.load(p)\n",
    "\n",
    "root = human_enzymes_dic['sa01000']\n",
    "node1 = root.children[0].children[0].children[0].children[2]\n",
    "node2 = root.children[0].children[0].children[0].children[2]\n",
    "\n",
    "print(cal_tree_distance(root, node1, node2))"
   ]
  },
  {
   "cell_type": "code",
   "execution_count": 135,
   "metadata": {},
   "outputs": [],
   "source": [
    "def cal_tree_distance(root, node1, node2):\n",
    "    lca = find_lca(root, node1, node2)\n",
    "    distance1 = find_distance_to_ancestor(lca, node1)\n",
    "    distance2 = find_distance_to_ancestor(lca, node2)\n",
    "    return distance1 + distance2\n",
    "def find_lca(root, node1, node2):\n",
    "    if root is None:\n",
    "        return None\n",
    "    if not root.value is None:\n",
    "        if root.value.lower() == node1.value.lower() or root.value.lower() == node2.value.lower():\n",
    "            return root\n",
    "\n",
    "    lca_node = None\n",
    "    node1_found = False\n",
    "    node2_found = False\n",
    "\n",
    "    for child in root.children:\n",
    "        lca = find_lca(child, node1, node2)\n",
    "        if lca:\n",
    "            if lca.value.lower() == node1.value.lower():\n",
    "                node1_found = True\n",
    "            if lca.value.lower() == node2.value.lower():\n",
    "                node2_found = True\n",
    "            if not lca_node:\n",
    "                lca_node = lca\n",
    "            if node1_found and node2_found:\n",
    "                return lca_node\n",
    "\n",
    "    if node1_found and node2_found:\n",
    "        return root\n",
    "    return lca_node"
   ]
  },
  {
   "cell_type": "code",
   "execution_count": 8,
   "metadata": {},
   "outputs": [
    {
     "ename": "NameError",
     "evalue": "name 'human_dic' is not defined",
     "output_type": "error",
     "traceback": [
      "\u001b[1;31m---------------------------------------------------------------------------\u001b[0m",
      "\u001b[1;31mNameError\u001b[0m                                 Traceback (most recent call last)",
      "Cell \u001b[1;32mIn[8], line 2\u001b[0m\n\u001b[0;32m      1\u001b[0m \u001b[38;5;66;03m# clculate the distance matrix\u001b[39;00m\n\u001b[1;32m----> 2\u001b[0m root \u001b[38;5;241m=\u001b[39m \u001b[43mhuman_dic\u001b[49m[\u001b[38;5;124m'\u001b[39m\u001b[38;5;124msa00001\u001b[39m\u001b[38;5;124m'\u001b[39m]\n\u001b[0;32m      3\u001b[0m length \u001b[38;5;241m=\u001b[39m \u001b[38;5;28mlen\u001b[39m(real_name_list)\n\u001b[0;32m      4\u001b[0m ground_truth_tree_dist \u001b[38;5;241m=\u001b[39m np\u001b[38;5;241m.\u001b[39mzeros((length, length), dtype\u001b[38;5;241m=\u001b[39m\u001b[38;5;28mfloat\u001b[39m)\n",
      "\u001b[1;31mNameError\u001b[0m: name 'human_dic' is not defined"
     ]
    }
   ],
   "source": [
    "# clculate the distance matrix\n",
    "root = human_dic['sa00001']\n",
    "length = len(real_name_list)\n",
    "ground_truth_tree_dist = np.zeros((length, length), dtype=float)\n",
    "for i in index:\n",
    "    node_i = deepest_nodes_list[i]\n",
    "    for j in index:\n",
    "        node_j = deepest_nodes_list[j]\n",
    "        ground_truth_tree_dist[i, j] = mydis(root, node_i, node_j)"
   ]
  }
 ],
 "metadata": {
  "kernelspec": {
   "display_name": "scenv",
   "language": "python",
   "name": "python3"
  },
  "language_info": {
   "codemirror_mode": {
    "name": "ipython",
    "version": 3
   },
   "file_extension": ".py",
   "mimetype": "text/x-python",
   "name": "python",
   "nbconvert_exporter": "python",
   "pygments_lexer": "ipython3",
   "version": "3.11.8"
  }
 },
 "nbformat": 4,
 "nbformat_minor": 2
}
