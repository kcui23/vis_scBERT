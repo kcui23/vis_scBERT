{
 "cells": [
  {
   "cell_type": "markdown",
   "metadata": {},
   "source": [
    "## Build ground truth tuple from ath dataset"
   ]
  },
  {
   "cell_type": "code",
   "execution_count": 8,
   "metadata": {},
   "outputs": [
    {
     "data": {
      "text/plain": [
       "63"
      ]
     },
     "execution_count": 8,
     "metadata": {},
     "output_type": "execute_result"
    }
   ],
   "source": [
    "import pickle\n",
    "import numpy as np\n",
    "\n",
    "with open(\"nt_seq_dic.pkl\", 'rb') as p:\n",
    "    nt_seq_dic = pickle.load(p)\n",
    "with open(\"gene_subtree_dic.pkl\", 'rb') as p:\n",
    "    gene_subtree_dic = pickle.load(p)\n",
    "with open(\"total_BR_tree_dic.pkl\", 'rb') as p:\n",
    "    total_BR_tree_dic = pickle.load(p)\n",
    "\n",
    "len(gene_subtree_dic.keys())"
   ]
  },
  {
   "cell_type": "code",
   "execution_count": 9,
   "metadata": {},
   "outputs": [
    {
     "name": "stdout",
     "output_type": "stream",
     "text": [
      "4\n"
     ]
    }
   ],
   "source": [
    "from mytree import *\n",
    "import copy\n",
    "\n",
    "count=0\n",
    "gene_node_list = []\n",
    "current_name = \"Photosynthesis proteins\"\n",
    "\n",
    "for i in gene_subtree_dic.keys():\n",
    "    count+=1\n",
    "    tmp_node, _ = find_deepest_node(gene_subtree_dic[i], current_name)\n",
    "    gene_node_list.append(tmp_node)\n",
    "\n",
    "\n",
    "root = total_BR_tree_dic['ko00194']\n",
    "print(cal_tree_distance(root, gene_node_list[-4], gene_node_list[-5]))\n",
    "\n",
    "# clean up gene names\n",
    "nice_name_gene_node_list = copy.deepcopy(gene_node_list)\n",
    "for i in range(len(gene_node_list)):\n",
    "    if i < 8:\n",
    "        nice_name_gene_node_list[i].value = gene_node_list[i].value[16:].split(';')[0]\n",
    "    else:\n",
    "        nice_name_gene_node_list[i].value = gene_node_list[i].value[8:].split(';')[0]"
   ]
  },
  {
   "cell_type": "code",
   "execution_count": 10,
   "metadata": {},
   "outputs": [],
   "source": [
    "flag={}\n",
    "notin = set()\n",
    "for i in nt_seq_dic.keys():\n",
    "    for j in nice_name_gene_node_list:\n",
    "        if i.lower() in j.value.lower():\n",
    "            flag[i] = flag.get(i, 0)+1\n",
    "            break\n",
    "        elif j == nice_name_gene_node_list[-1]:\n",
    "            notin.add(i)"
   ]
  },
  {
   "cell_type": "code",
   "execution_count": 11,
   "metadata": {},
   "outputs": [],
   "source": [
    "correct = {\n",
    "    'CYTC6A': 'petJ',\n",
    "    'PSAE-2': 'psaE',\n",
    "    'PSBP-1': 'psbP',\n",
    "    'PnsL2': 'psbQ',\n",
    "    'NPQ4': 'psbS',\n",
    "    'PSAD-2': 'psaD',\n",
    "    'PSAH2': 'psaH',\n",
    "    'DRT112': 'petE',\n",
    "    'FD1': 'petF',\n",
    "    'FNR2':'petH'\n",
    "}"
   ]
  },
  {
   "cell_type": "code",
   "execution_count": 12,
   "metadata": {},
   "outputs": [],
   "source": [
    "# clean names in nice_name_gene_node_lise\n",
    "for k,v in correct.items():\n",
    "    for i in nice_name_gene_node_list:\n",
    "        if v == i.value:\n",
    "            i.value = k"
   ]
  },
  {
   "cell_type": "code",
   "execution_count": 13,
   "metadata": {},
   "outputs": [
    {
     "data": {
      "text/plain": [
       "{'ATPC2',\n",
       " 'CYTC6A',\n",
       " 'DRT112',\n",
       " 'FD1',\n",
       " 'FNR2',\n",
       " 'NPQ4',\n",
       " 'PSAD-2',\n",
       " 'PSAE-2',\n",
       " 'PSAH2',\n",
       " 'PSBO2',\n",
       " 'PSBP-1',\n",
       " 'PnsL2',\n",
       " 'atpI'}"
      ]
     },
     "execution_count": 13,
     "metadata": {},
     "output_type": "execute_result"
    }
   ],
   "source": [
    "notin"
   ]
  },
  {
   "cell_type": "code",
   "execution_count": 14,
   "metadata": {},
   "outputs": [
    {
     "name": "stdout",
     "output_type": "stream",
     "text": [
      "51\n"
     ]
    }
   ],
   "source": [
    "fixed_gene_names = list(nt_seq_dic.keys())\n",
    "fixed_gene_names.remove('atpI')\n",
    "fixed_gene_names.remove('PSBO2')\n",
    "fixed_gene_names.remove('ATPC2')\n",
    "only_names_gene_node = []\n",
    "\n",
    "length = 0\n",
    "for i in fixed_gene_names:\n",
    "    for j in nice_name_gene_node_list:\n",
    "        if i.lower() == j.value.lower():\n",
    "            length+=1\n",
    "\n",
    "for i in nice_name_gene_node_list:\n",
    "    only_names_gene_node.append(i.value.lower())\n",
    "\n",
    "print(length)\n",
    "\n",
    "ground_truth_tree_dist = np.zeros((length, length), dtype=float)\n",
    "for i in range(length):\n",
    "    index = only_names_gene_node.index(fixed_gene_names[i].lower())\n",
    "    node_i = gene_node_list[i]\n",
    "    for j in range(length):\n",
    "        index = only_names_gene_node.index(fixed_gene_names[j].lower())\n",
    "        node_j = gene_node_list[j]\n",
    "        ground_truth_tree_dist[i, j] = cal_tree_distance(root, node_i, node_j)"
   ]
  },
  {
   "cell_type": "code",
   "execution_count": 145,
   "metadata": {},
   "outputs": [],
   "source": [
    "with open('ground_truth_dist_tuple.pkl', 'wb') as p:\n",
    "    pickle.dump((fixed_gene_names, ground_truth_tree_dist), p)"
   ]
  },
  {
   "cell_type": "markdown",
   "metadata": {},
   "source": [
    "## Build ground truth tuple from human dataset"
   ]
  },
  {
   "cell_type": "code",
   "execution_count": null,
   "metadata": {},
   "outputs": [],
   "source": [
    "from mytree import *\n",
    "from get_gene_name_and_seq import get_NT_seq\n",
    "import numpy as np\n",
    "import pickle\n",
    "import copy\n",
    "from tqdm import tqdm\n",
    "\n",
    "with open('human_total_BR_tree_dic.pkl', 'rb') as p:\n",
    "    human_dic = pickle.load(p)\n",
    "\n",
    "root = human_dic['sa00001']\n",
    "deepest_nodes_list, _ = find_deepest_node(root, '', from_root_get_all=True)\n",
    "\n",
    "index = list(range(len(deepest_nodes_list)))\n",
    "human_gene_name_list = [\"hsa:\"+deepest_nodes_list[i].value.split()[0] for i in index]\n",
    "human_gene_ntseq_link_list = [\"https://www.kegg.jp/entry/\"+i for i in human_gene_name_list]\n",
    "\n",
    "# Test: select random 100 genes\n",
    "np.random.seed(0)\n",
    "sample_size = 10\n",
    "index = np.random.choice(len(deepest_nodes_list), sample_size, replace=False)\n",
    "human_gene_name_list = [\"hsa:\"+deepest_nodes_list[i].value.split()[0] for i in index]\n",
    "human_gene_ntseq_link_list = [\"https://www.kegg.jp/entry/\"+i for i in human_gene_name_list]\n",
    "\n",
    "real_name_list = []\n",
    "# get all nt seq and build a dictionary\n",
    "human_nt_seq_dic = {}\n",
    "for i in tqdm(range(len(human_gene_name_list))):\n",
    "    name, seq = get_NT_seq(human_gene_ntseq_link_list[i])\n",
    "    real_name_list.append(name)\n",
    "    human_nt_seq_dic[name] = seq\n",
    "\n",
    "# clculate the distance matrix\n",
    "length = len(real_name_list)\n",
    "ground_truth_tree_dist = np.zeros((length, length), dtype=float)\n",
    "for i in index:\n",
    "    node_i = deepest_nodes_list[i]\n",
    "    for j in index:\n",
    "        node_j = deepest_nodes_list[j]\n",
    "        ground_truth_tree_dist[i, j] = cal_tree_distance(root, node_i, node_j)"
   ]
  },
  {
   "cell_type": "markdown",
   "metadata": {},
   "source": [
    "---"
   ]
  },
  {
   "cell_type": "markdown",
   "metadata": {},
   "source": [
    "## code below need to debug: find_lca always return None for human BR tree"
   ]
  },
  {
   "cell_type": "code",
   "execution_count": 227,
   "metadata": {},
   "outputs": [],
   "source": [
    "from collections import deque\n",
    "\n",
    "def cal_tree_distance(root, node1, node2):\n",
    "    if node1.value.lower() == node2.value.lower():\n",
    "        return 0\n",
    "    lca = find_lca(root, node1, node2)\n",
    "    print(lca.value)\n",
    "    distance1 = find_distance_to_ancestor(lca, node1)\n",
    "    distance2 = find_distance_to_ancestor(lca, node2)\n",
    "    print(distance1, distance2)\n",
    "    return distance1 + distance2\n",
    "\n",
    "def find_lca(root, node1, node2):\n",
    "    if root is None:\n",
    "        return None\n",
    "\n",
    "    stack = deque([(root, [root])])\n",
    "    path1, path2 = None, None\n",
    "\n",
    "    while stack:\n",
    "        node, path = stack.pop()\n",
    "        if not node.value is None:\n",
    "            if node.value.lower() == node1.value.lower():\n",
    "                path1 = path\n",
    "                if path2:\n",
    "                    break\n",
    "            if node.value.lower() == node2.value.lower():\n",
    "                path2 = path\n",
    "                if path1:\n",
    "                    break\n",
    "\n",
    "        for child in node.children:\n",
    "            stack.append((child, path + [child]))\n",
    "\n",
    "    if path1 and path2:\n",
    "        for i in range(min(len(path1), len(path2))):\n",
    "            if path1[i] != path2[i]:\n",
    "                return path1[i - 1]\n",
    "\n",
    "    return None\n",
    "\n",
    "def find_distance_to_ancestor(ancestor, node):\n",
    "    if ancestor is None:\n",
    "        return -1\n",
    "    if ancestor.value.lower() == node.value.lower():\n",
    "        return 0\n",
    "    queue = deque([(ancestor, 0)])\n",
    "    while queue:\n",
    "        curr_node, distance = queue.popleft()\n",
    "        if curr_node.value.lower() == node.value.lower():\n",
    "            return distance\n",
    "        for child in curr_node.children:\n",
    "            queue.append((child, distance + 1))\n",
    "    return -1\n",
    "\n",
    "def find_deepest_node(root, name_begin, from_root_get_all=False):\n",
    "    if not from_root_get_all:\n",
    "        if not root:\n",
    "            return None\n",
    "        deepest_node = None\n",
    "        max_depth = -1\n",
    "        queue = deque([(root, 0)])\n",
    "        while queue:\n",
    "            node, depth = queue.popleft()\n",
    "            if (not node.value is None) and depth > max_depth:\n",
    "                if (node.value.startswith(name_begin) and depth == 0) or depth > 0:\n",
    "                    max_depth = depth\n",
    "                    deepest_node = node\n",
    "            for child in node.children:\n",
    "                queue.append((child, depth + 1))\n",
    "        return deepest_node, max_depth\n",
    "    else:\n",
    "        if not root:\n",
    "            return None\n",
    "        deepest_nodes = []\n",
    "        max_depth = -1\n",
    "        queue = deque([(root, 0)])\n",
    "        while queue:\n",
    "            node, depth = queue.popleft()\n",
    "            if depth > max_depth:\n",
    "                max_depth = depth\n",
    "                deepest_nodes = [node]\n",
    "            elif depth == max_depth:\n",
    "                deepest_nodes.append(node)\n",
    "            for child in node.children:\n",
    "                queue.append((child, depth + 1))\n",
    "        return deepest_nodes, max_depth"
   ]
  },
  {
   "cell_type": "code",
   "execution_count": 229,
   "metadata": {},
   "outputs": [
    {
     "data": {
      "text/plain": [
       "'09120 Genetic Information Processing'"
      ]
     },
     "execution_count": 229,
     "metadata": {},
     "output_type": "execute_result"
    }
   ],
   "source": [
    "root.children[1].value"
   ]
  },
  {
   "cell_type": "code",
   "execution_count": 228,
   "metadata": {},
   "outputs": [
    {
     "name": "stdout",
     "output_type": "stream",
     "text": [
      "09182 Protein families: genetic information processing\n",
      "2 2\n",
      "4\n"
     ]
    }
   ],
   "source": [
    "root = human_dic['sa00001']\n",
    "node1 = root.children[0].children[0].children[0].children[0]\n",
    "node2 = root.children[1].children[0].children[0].children[0]\n",
    "\n",
    "# print(mydis(root, node1, node2))\n",
    "print(cal_tree_distance(root, node1, node2))"
   ]
  },
  {
   "cell_type": "code",
   "execution_count": 220,
   "metadata": {},
   "outputs": [
    {
     "name": "stdout",
     "output_type": "stream",
     "text": [
      "-2\n"
     ]
    }
   ],
   "source": [
    "with open(\"total_BR_tree_dic.pkl\", 'rb') as p:\n",
    "    total_BR_tree_dic = pickle.load(p)\n",
    "root = total_BR_tree_dic['ko00194']\n",
    "node1 = root.children[0].children[0].children[0].children[2]\n",
    "node2 = root.children[0].children[0].children[0].children[2]\n",
    "\n",
    "print(cal_tree_distance(root, node1, node2))\n",
    "# mydis(root, node1, node2)"
   ]
  },
  {
   "cell_type": "code",
   "execution_count": 18,
   "metadata": {},
   "outputs": [
    {
     "name": "stdout",
     "output_type": "stream",
     "text": [
      "None\n"
     ]
    },
    {
     "ename": "AttributeError",
     "evalue": "'NoneType' object has no attribute 'lower'",
     "output_type": "error",
     "traceback": [
      "\u001b[1;31m---------------------------------------------------------------------------\u001b[0m",
      "\u001b[1;31mAttributeError\u001b[0m                            Traceback (most recent call last)",
      "Cell \u001b[1;32mIn[18], line 9\u001b[0m\n\u001b[0;32m      7\u001b[0m \u001b[38;5;28;01mfor\u001b[39;00m j \u001b[38;5;129;01min\u001b[39;00m index:\n\u001b[0;32m      8\u001b[0m     node_j \u001b[38;5;241m=\u001b[39m deepest_nodes_list[j]\n\u001b[1;32m----> 9\u001b[0m     ground_truth_tree_dist[i, j] \u001b[38;5;241m=\u001b[39m \u001b[43mmydis\u001b[49m\u001b[43m(\u001b[49m\u001b[43mroot\u001b[49m\u001b[43m,\u001b[49m\u001b[43m \u001b[49m\u001b[43mnode_i\u001b[49m\u001b[43m,\u001b[49m\u001b[43m \u001b[49m\u001b[43mnode_j\u001b[49m\u001b[43m)\u001b[49m\n",
      "Cell \u001b[1;32mIn[16], line 4\u001b[0m, in \u001b[0;36mmydis\u001b[1;34m(root, node1, node2)\u001b[0m\n\u001b[0;32m      2\u001b[0m lca \u001b[38;5;241m=\u001b[39m find_lca(root, node1, node2)\n\u001b[0;32m      3\u001b[0m \u001b[38;5;28mprint\u001b[39m(lca\u001b[38;5;241m.\u001b[39mvalue)\n\u001b[1;32m----> 4\u001b[0m distance1 \u001b[38;5;241m=\u001b[39m \u001b[43mfind_distance_to_ancestor\u001b[49m\u001b[43m(\u001b[49m\u001b[43mlca\u001b[49m\u001b[43m,\u001b[49m\u001b[43m \u001b[49m\u001b[43mnode1\u001b[49m\u001b[43m)\u001b[49m\n\u001b[0;32m      5\u001b[0m distance2 \u001b[38;5;241m=\u001b[39m find_distance_to_ancestor(lca, node2)\n\u001b[0;32m      6\u001b[0m \u001b[38;5;28;01mreturn\u001b[39;00m distance1 \u001b[38;5;241m+\u001b[39m distance2\n",
      "File \u001b[1;32mc:\\Users\\Kai\\Desktop\\vis_scBERT\\DNABERT_2\\mytree.py:62\u001b[0m, in \u001b[0;36mfind_distance_to_ancestor\u001b[1;34m(ancestor, node)\u001b[0m\n\u001b[0;32m     59\u001b[0m \u001b[38;5;28;01mif\u001b[39;00m ancestor \u001b[38;5;129;01mis\u001b[39;00m \u001b[38;5;28;01mNone\u001b[39;00m:\n\u001b[0;32m     60\u001b[0m     \u001b[38;5;28;01mreturn\u001b[39;00m \u001b[38;5;241m-\u001b[39m\u001b[38;5;241m1\u001b[39m\n\u001b[1;32m---> 62\u001b[0m \u001b[38;5;28;01mif\u001b[39;00m \u001b[43mancestor\u001b[49m\u001b[38;5;241;43m.\u001b[39;49m\u001b[43mvalue\u001b[49m\u001b[38;5;241;43m.\u001b[39;49m\u001b[43mlower\u001b[49m() \u001b[38;5;241m==\u001b[39m node\u001b[38;5;241m.\u001b[39mvalue\u001b[38;5;241m.\u001b[39mlower():\n\u001b[0;32m     63\u001b[0m     \u001b[38;5;28;01mreturn\u001b[39;00m \u001b[38;5;241m0\u001b[39m\n\u001b[0;32m     65\u001b[0m \u001b[38;5;28;01mfor\u001b[39;00m child \u001b[38;5;129;01min\u001b[39;00m ancestor\u001b[38;5;241m.\u001b[39mchildren:\n",
      "\u001b[1;31mAttributeError\u001b[0m: 'NoneType' object has no attribute 'lower'"
     ]
    }
   ],
   "source": [
    "# clculate the distance matrix\n",
    "root = human_dic['sa00001']\n",
    "length = len(real_name_list)\n",
    "ground_truth_tree_dist = np.zeros((length, length), dtype=float)\n",
    "for i in index:\n",
    "    node_i = deepest_nodes_list[i]\n",
    "    for j in index:\n",
    "        node_j = deepest_nodes_list[j]\n",
    "        ground_truth_tree_dist[i, j] = mydis(root, node_i, node_j)"
   ]
  }
 ],
 "metadata": {
  "kernelspec": {
   "display_name": "scenv",
   "language": "python",
   "name": "python3"
  },
  "language_info": {
   "codemirror_mode": {
    "name": "ipython",
    "version": 3
   },
   "file_extension": ".py",
   "mimetype": "text/x-python",
   "name": "python",
   "nbconvert_exporter": "python",
   "pygments_lexer": "ipython3",
   "version": "3.11.8"
  }
 },
 "nbformat": 4,
 "nbformat_minor": 2
}
