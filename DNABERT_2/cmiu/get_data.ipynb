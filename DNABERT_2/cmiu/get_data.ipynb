{
 "cells": [
  {
   "cell_type": "code",
   "execution_count": 1,
   "metadata": {},
   "outputs": [],
   "source": [
    "import sys\n",
    "sys.path.append('C:/Users/Kai/Desktop/vis_scBERT/DNABERT_2/')\n",
    "from get_gene_name_and_seq import *"
   ]
  },
  {
   "cell_type": "markdown",
   "metadata": {},
   "source": [
    "# Get NT sequence from serval patheways of cmiu"
   ]
  },
  {
   "cell_type": "code",
   "execution_count": 2,
   "metadata": {},
   "outputs": [
    {
     "name": "stderr",
     "output_type": "stream",
     "text": [
      "Getting gene links: 100%|██████████| 4/4 [00:06<00:00,  1.50s/it]\n",
      "Getting NT sequences: 100%|██████████| 4/4 [01:12<00:00, 18.03s/it]\n"
     ]
    }
   ],
   "source": [
    "raw='''\n",
    "00190  Oxidative phosphorylation\n",
    "00680  Methane metabolism\n",
    "00910  Nitrogen metabolism\n",
    "00920  Sulfur metabolism\n",
    "'''\n",
    "pathway_list = clean_raw_pathway_str(raw, 'cmiu')\n",
    "cmiu_dic = pathway2NTseq_cmiu(pathway_list)"
   ]
  },
  {
   "cell_type": "code",
   "execution_count": 8,
   "metadata": {},
   "outputs": [
    {
     "name": "stdout",
     "output_type": "stream",
     "text": [
      "cmiu00190 12\n",
      "cmiu00680 28\n",
      "cmiu00910 7\n",
      "cmiu00920 6\n"
     ]
    }
   ],
   "source": [
    "for k,v in cmiu_dic.items():\n",
    "    print(k, len(v))"
   ]
  }
 ],
 "metadata": {
  "kernelspec": {
   "display_name": "scenv",
   "language": "python",
   "name": "python3"
  },
  "language_info": {
   "codemirror_mode": {
    "name": "ipython",
    "version": 3
   },
   "file_extension": ".py",
   "mimetype": "text/x-python",
   "name": "python",
   "nbconvert_exporter": "python",
   "pygments_lexer": "ipython3",
   "version": "3.11.8"
  }
 },
 "nbformat": 4,
 "nbformat_minor": 2
}
