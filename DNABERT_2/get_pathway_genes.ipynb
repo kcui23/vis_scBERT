{
 "cells": [
  {
   "cell_type": "markdown",
   "metadata": {},
   "source": [
    "From this file, you can get these three files:\n",
    "- 'gene_link_K_page.pkl'\n",
    "- 'gene_nt_seq_link.pkl'\n",
    "- 'nt_seq_dic.pkl'\n",
    "But before that, you need to set the 'pathway_gene_name.txt' file manually."
   ]
  },
  {
   "cell_type": "code",
   "execution_count": null,
   "metadata": {},
   "outputs": [],
   "source": [
    "from get_gene_name_and_seq import *\n",
    "\n",
    "pathway_to_NT_seq('pathway_gene_name.txt', 'gene_link_K_page.pkl', 'gene_nt_seq_link.pkl', 'nt_seq_dic.pkl')"
   ]
  }
 ],
 "metadata": {
  "kernelspec": {
   "display_name": "Python 3",
   "language": "python",
   "name": "python3"
  },
  "language_info": {
   "codemirror_mode": {
    "name": "ipython",
    "version": 3
   },
   "file_extension": ".py",
   "mimetype": "text/x-python",
   "name": "python",
   "nbconvert_exporter": "python",
   "pygments_lexer": "ipython3",
   "version": "3.11.8"
  }
 },
 "nbformat": 4,
 "nbformat_minor": 2
}
