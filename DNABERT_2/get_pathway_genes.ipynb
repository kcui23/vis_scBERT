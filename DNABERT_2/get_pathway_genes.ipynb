{
 "cells": [
  {
   "cell_type": "code",
   "execution_count": 18,
   "metadata": {},
   "outputs": [],
   "source": [
    "with open(\"pathway_gene_name.txt\", 'r') as f:\n",
    "    gene_ids = []\n",
    "    for i in f.readlines():\n",
    "        gene_ids.append(i[:6])\n",
    "\n",
    "urls = []\n",
    "prefix = 'https://www.genome.jp/entry/'\n",
    "for i in gene_ids:\n",
    "    urls.append(prefix+i)"
   ]
  },
  {
   "cell_type": "code",
   "execution_count": 29,
   "metadata": {},
   "outputs": [],
   "source": [
    "import requests\n",
    "from bs4 import BeautifulSoup\n",
    "from tqdm import tqdm\n",
    "\n",
    "def get_gene_link(url):\n",
    "    response = requests.get(url)\n",
    "    webpage = response.content\n",
    "\n",
    "    soup = BeautifulSoup(webpage, 'html.parser')\n",
    "\n",
    "    for link in soup.find_all('a'):\n",
    "        if 'ath:A' in str(link):\n",
    "            return link\n"
   ]
  },
  {
   "cell_type": "code",
   "execution_count": 30,
   "metadata": {},
   "outputs": [
    {
     "name": "stderr",
     "output_type": "stream",
     "text": [
      "100%|██████████| 63/63 [03:38<00:00,  3.47s/it]\n"
     ]
    }
   ],
   "source": [
    "gene_links = []\n",
    "for i in tqdm(urls):\n",
    "    a = get_gene_link(i)\n",
    "    start = str(a).find('\"')\n",
    "    end = str(a)[start+1:].find('\"')\n",
    "    a_link = 'https://www.genome.jp/entry/'+str(gene_links[0])[start+1:start+end+1]\n",
    "    gene_links.append(a_link)"
   ]
  },
  {
   "cell_type": "code",
   "execution_count": 77,
   "metadata": {},
   "outputs": [
    {
     "data": {
      "text/plain": [
       "('atpI',\n",
       " 'ATGAATGTTTTATCATGTTCCATCAACACACTAATAAAAGAAGGGTTATATGAGATATCTGGTGTAGAAGTAGGCCAACATTTCTATTGGCAAATAGGGGGTTTCCAGGTCCATGCCCAAGTTCTTATTACTTCTTGGGTTGTAATTGCTATCTTATTAGGTTCCGCAGTTCTAGCGATTCGCAATCCACAAACAATTCCAACTGACGGCCAAAATTTCTTTGAATTTGTCCTTGAATTCATTCGAGACGTGAGTAAAACCCAGATTGGAGAAGAATATGGTCCATGGGTTCCCTTTATTGGAACCCTGTTTTTATTTATTTTTGTTTCTAACTGGTCAGGAGCCCTTTTACCGTGGAAAATTATCCAGTTACCTCAAGGGGAGTTAGCAGCACCAACGAATGATATAAATACGACGGTTGCTTTAGCTTTACTCACATCAGTAGCCTATTTTTATGCGGGGCTTAGCAAAAAAGGATTAGGGTATTTCAGTAAATACATTCAACCAACCCCAATTCTTTTACCCATTAACATCTTAGAAGATTTTACAAAACCCCTATCACTTAGTTTTCGACTTTTCGGAAATATATTAGCCGATGAATTAGTCGTTGTTGTTCTTGTTTCTTTAGTACCTTTAGTGGTTCCTATACCTGTTATGTTCCTTGGATTATTTACAAGCGGGATTCAAGCTCTCATTTTTGCCACTTTAGCTGCGGCTTATATAGGTGAGTCTATGGAAGGTCATCATTAA')"
      ]
     },
     "execution_count": 77,
     "metadata": {},
     "output_type": "execute_result"
    }
   ],
   "source": [
    "def get_NT_seq(url):\n",
    "    '''\n",
    "    return: name, NT seq\n",
    "    '''\n",
    "    response = requests.get(url)\n",
    "    webpage = response.content\n",
    "\n",
    "    soup = BeautifulSoup(webpage, 'html.parser')\n",
    "    a=soup.find_all('tr')\n",
    "    start = str(a[5]).find('cel\">')\n",
    "    end = str(a[5]).find('<br')\n",
    "    name = str(a[5])[start+5:end]\n",
    "    tmp=a[-1]\n",
    "    tmp=str(tmp).split('\\n')\n",
    "    tmp_dna=''\n",
    "    for i in tmp[2:]:\n",
    "        tmp_dna+=i.replace('<br/>','').replace('</td></tr>', '')\n",
    "    return name, tmp_dna.upper()"
   ]
  },
  {
   "cell_type": "code",
   "execution_count": 97,
   "metadata": {},
   "outputs": [
    {
     "name": "stderr",
     "output_type": "stream",
     "text": [
      "100%|██████████| 63/63 [01:48<00:00,  1.71s/it]\n"
     ]
    }
   ],
   "source": [
    "nt_seq = {}\n",
    "for i in tqdm(gene_links):\n",
    "    name, tmp_dna = get_NT_seq(i)\n",
    "    if len(str(name)) < 10 and str(name)!='non':\n",
    "        nt_seq[name] = tmp_dna"
   ]
  },
  {
   "cell_type": "code",
   "execution_count": 105,
   "metadata": {},
   "outputs": [],
   "source": [
    "import pickle\n",
    "with open('nt_seq_dic.pkl', 'wb') as pickle_file:\n",
    "    pickle.dump(nt_seq, pickle_file)"
   ]
  },
  {
   "cell_type": "code",
   "execution_count": null,
   "metadata": {},
   "outputs": [],
   "source": [
    "names = list(nt_seq.keys())\n",
    "names"
   ]
  }
 ],
 "metadata": {
  "kernelspec": {
   "display_name": "Python 3",
   "language": "python",
   "name": "python3"
  },
  "language_info": {
   "codemirror_mode": {
    "name": "ipython",
    "version": 3
   },
   "file_extension": ".py",
   "mimetype": "text/x-python",
   "name": "python",
   "nbconvert_exporter": "python",
   "pygments_lexer": "ipython3",
   "version": "3.11.8"
  }
 },
 "nbformat": 4,
 "nbformat_minor": 2
}
