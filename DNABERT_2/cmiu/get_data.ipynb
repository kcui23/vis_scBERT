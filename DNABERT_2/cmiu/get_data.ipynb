{
 "cells": [
  {
   "cell_type": "code",
   "execution_count": 1,
   "metadata": {},
   "outputs": [],
   "source": [
    "import sys\n",
    "sys.path.append('C:/Users/Kai/Desktop/vis_scBERT/DNABERT_2/')\n",
    "from get_gene_name_and_seq import *"
   ]
  },
  {
   "cell_type": "markdown",
   "metadata": {},
   "source": [
    "# Get NT sequence from serval patheways of cmiu"
   ]
  },
  {
   "cell_type": "code",
   "execution_count": 4,
   "metadata": {},
   "outputs": [],
   "source": [
    "raw='''\n",
    "00190  Oxidative phosphorylation\n",
    "00680  Methane metabolism\n",
    "00910  Nitrogen metabolism\n",
    "00920  Sulfur metabolism\n",
    "'''\n",
    "pathway_list = clean_raw_pathway_str(raw, 'cmiu')\n",
    "cmiu_dic = pathway2NTseq_cmiu(pathway_list)"
   ]
  },
  {
   "cell_type": "code",
   "execution_count": 8,
   "metadata": {},
   "outputs": [
    {
     "name": "stdout",
     "output_type": "stream",
     "text": [
      "cmiu00190 12\n",
      "cmiu00680 28\n",
      "cmiu00910 7\n",
      "cmiu00920 6\n"
     ]
    }
   ],
   "source": [
    "for k,v in cmiu_dic.items():\n",
    "    print(k, len(v))"
   ]
  },
  {
   "cell_type": "markdown",
   "metadata": {},
   "source": [
    "# Build data for \"gene sense\" task"
   ]
  },
  {
   "cell_type": "code",
   "execution_count": 8,
   "metadata": {},
   "outputs": [
    {
     "name": "stderr",
     "output_type": "stream",
     "text": [
      "Getting gene links: 100%|██████████| 11/11 [00:17<00:00,  1.60s/it]\n",
      "Getting NT sequences: 100%|██████████| 11/11 [03:19<00:00, 18.17s/it]\n"
     ]
    }
   ],
   "source": [
    "raw='''\n",
    "cmiu00010  \tGlycolysis / Gluconeogenesis\n",
    "cmiu00051  \tFructose and mannose metabolism\n",
    "cmiu00052  \tGalactose metabolism\n",
    "cmiu00500  \tStarch and sucrose metabolism\n",
    "cmiu00520  \tAmino sugar and nucleotide sugar metabolism\n",
    "cmiu00521  \tStreptomycin biosynthesis\n",
    "cmiu01100  \tMetabolic pathways\n",
    "cmiu01110  \tBiosynthesis of secondary metabolites\n",
    "cmiu01120  \tMicrobial metabolism in diverse environments\n",
    "cmiu01200  \tCarbon metabolism\n",
    "cmiu01250  \tBiosynthesis of nucleotide sugars\n",
    "'''\n",
    "pathway_list = clean_raw_pathway_str(raw, 'cmiu')\n",
    "cmiu_dic = pathway2NTseq_cmiu(pathway_list)"
   ]
  }
 ],
 "metadata": {
  "kernelspec": {
   "display_name": "scenv",
   "language": "python",
   "name": "python3"
  },
  "language_info": {
   "codemirror_mode": {
    "name": "ipython",
    "version": 3
   },
   "file_extension": ".py",
   "mimetype": "text/x-python",
   "name": "python",
   "nbconvert_exporter": "python",
   "pygments_lexer": "ipython3",
   "version": "3.11.8"
  }
 },
 "nbformat": 4,
 "nbformat_minor": 2
}
