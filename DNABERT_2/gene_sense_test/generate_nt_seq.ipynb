{
 "cells": [
  {
   "cell_type": "code",
   "execution_count": 1,
   "metadata": {},
   "outputs": [],
   "source": [
    "import sys\n",
    "sys.path.append('C:/Users/Kai/Desktop/vis_scBERT/DNABERT_2/')\n",
    "from get_gene_name_and_seq import *"
   ]
  },
  {
   "cell_type": "markdown",
   "metadata": {},
   "source": [
    "### this is testing all genes in all pathways related to gene hsa:128, see https://www.kegg.jp/entry/hsa:128"
   ]
  },
  {
   "cell_type": "code",
   "execution_count": 10,
   "metadata": {},
   "outputs": [
    {
     "name": "stderr",
     "output_type": "stream",
     "text": [
      "Getting gene links: 100%|██████████| 10/10 [00:15<00:00,  1.59s/it]\n",
      "Getting NT sequences: 100%|██████████| 10/10 [12:32<00:00, 75.25s/it]\n"
     ]
    }
   ],
   "source": [
    "raw = '''\n",
    "hsa00010  \tGlycolysis / Gluconeogenesis\n",
    "hsa00071  \tFatty acid degradation\n",
    "hsa00350  \tTyrosine metabolism\n",
    "hsa00620  \tPyruvate metabolism\n",
    "hsa00830  \tRetinol metabolism\n",
    "hsa00980  \tMetabolism of xenobiotics by cytochrome P450\n",
    "hsa00982  \tDrug metabolism - cytochrome P450\n",
    "hsa01100  \tMetabolic pathways\n",
    "hsa01200  \tCarbon metabolism\n",
    "hsa04936 \n",
    "'''\n",
    "\n",
    "pathway_list = clean_raw_pathway_str(raw)\n",
    "pathway2NTseq_hsa(pathway_list)"
   ]
  },
  {
   "cell_type": "code",
   "execution_count": 11,
   "metadata": {},
   "outputs": [
    {
     "data": {
      "text/plain": [
       "dict_keys(['hsa00010', 'hsa00071', 'hsa00350', 'hsa00620', 'hsa00830', 'hsa00980', 'hsa00982', 'hsa01100', 'hsa01200', 'hsa04936'])"
      ]
     },
     "execution_count": 11,
     "metadata": {},
     "output_type": "execute_result"
    }
   ],
   "source": [
    "with open(\"hsa_NT_seq_dict.pkl\", 'rb') as p:\n",
    "    hsa_NT_seq_dict = pickle.load(p)\n",
    "    \n",
    "hsa_NT_seq_dict.keys()"
   ]
  }
 ],
 "metadata": {
  "kernelspec": {
   "display_name": "Python 3",
   "language": "python",
   "name": "python3"
  },
  "language_info": {
   "codemirror_mode": {
    "name": "ipython",
    "version": 3
   },
   "file_extension": ".py",
   "mimetype": "text/x-python",
   "name": "python",
   "nbconvert_exporter": "python",
   "pygments_lexer": "ipython3",
   "version": "3.11.8"
  }
 },
 "nbformat": 4,
 "nbformat_minor": 2
}
